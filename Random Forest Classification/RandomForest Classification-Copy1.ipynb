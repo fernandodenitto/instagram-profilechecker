{
 "cells": [
  {
   "cell_type": "markdown",
   "metadata": {},
   "source": [
    "# RandomForest"
   ]
  },
  {
   "cell_type": "code",
   "execution_count": 65,
   "metadata": {},
   "outputs": [],
   "source": [
    "import pandas as pd\n",
    "import numpy as np\n",
    "import matplotlib.pyplot as plt\n",
    "%matplotlib inline"
   ]
  },
  {
   "cell_type": "code",
   "execution_count": 66,
   "metadata": {},
   "outputs": [],
   "source": [
    "from sklearn.model_selection import train_test_split\n",
    "from sklearn.ensemble import RandomForestClassifier"
   ]
  },
  {
   "cell_type": "code",
   "execution_count": 67,
   "metadata": {},
   "outputs": [],
   "source": [
    "df_real = pd.read_csv('../data/balanced_real_data.csv')\n",
    "df_fake = pd.read_csv('../data/balanced_fake_data.csv')"
   ]
  },
  {
   "cell_type": "code",
   "execution_count": 68,
   "metadata": {},
   "outputs": [],
   "source": [
    "df=pd.concat([df_real,df_fake],ignore_index=True)"
   ]
  },
  {
   "cell_type": "code",
   "execution_count": 69,
   "metadata": {},
   "outputs": [
    {
     "name": "stdout",
     "output_type": "stream",
     "text": [
      "(11477, 28)\n",
      "['username', 'profile_pic', 'biography', 'follows_count', 'followed_by_count', 'ff_ratio', 'media_count', 'is_private', 'is_verified', 'is_business_account', 'is_joined_recently', 'highlight_reel_count', 'average_likes', 'max_likes', 'min_likes', 'std_likes', 'var_likes', 'skw_likes', 'average_comments', 'max_comments', 'min_comments', 'std_comments', 'var_comments', 'skw_comments', 'mean_time_between_posts', 'max_time_between_posts', 'min_time_between_posts', 'std_time_between_posts', 'var_time_between_posts', 'skw_time_between_posts']\n"
     ]
    }
   ],
   "source": [
    "features=list(df.loc[:].columns[:-1])\n",
    "df.drop(['username','follows_count', 'followed_by_count'],axis=1,inplace=True)\n",
    "df.dropna(inplace=True)\n",
    "targets = df['real_account'].values\n",
    "print(df.shape)\n",
    "print(features)"
   ]
  },
  {
   "cell_type": "code",
   "execution_count": 70,
   "metadata": {},
   "outputs": [
    {
     "data": {
      "text/plain": [
       "array([ True,  True,  True, ..., False, False, False])"
      ]
     },
     "execution_count": 70,
     "metadata": {},
     "output_type": "execute_result"
    }
   ],
   "source": [
    "targets"
   ]
  },
  {
   "cell_type": "code",
   "execution_count": 71,
   "metadata": {},
   "outputs": [
    {
     "data": {
      "text/html": [
       "<div>\n",
       "<style scoped>\n",
       "    .dataframe tbody tr th:only-of-type {\n",
       "        vertical-align: middle;\n",
       "    }\n",
       "\n",
       "    .dataframe tbody tr th {\n",
       "        vertical-align: top;\n",
       "    }\n",
       "\n",
       "    .dataframe thead th {\n",
       "        text-align: right;\n",
       "    }\n",
       "</style>\n",
       "<table border=\"1\" class=\"dataframe\">\n",
       "  <thead>\n",
       "    <tr style=\"text-align: right;\">\n",
       "      <th></th>\n",
       "      <th>profile_pic</th>\n",
       "      <th>biography</th>\n",
       "      <th>ff_ratio</th>\n",
       "      <th>media_count</th>\n",
       "      <th>is_private</th>\n",
       "      <th>is_verified</th>\n",
       "      <th>is_business_account</th>\n",
       "      <th>is_joined_recently</th>\n",
       "      <th>highlight_reel_count</th>\n",
       "      <th>average_likes</th>\n",
       "      <th>...</th>\n",
       "      <th>std_comments</th>\n",
       "      <th>var_comments</th>\n",
       "      <th>skw_comments</th>\n",
       "      <th>mean_time_between_posts</th>\n",
       "      <th>max_time_between_posts</th>\n",
       "      <th>min_time_between_posts</th>\n",
       "      <th>std_time_between_posts</th>\n",
       "      <th>var_time_between_posts</th>\n",
       "      <th>skw_time_between_posts</th>\n",
       "      <th>real_account</th>\n",
       "    </tr>\n",
       "  </thead>\n",
       "  <tbody>\n",
       "    <tr>\n",
       "      <td>0</td>\n",
       "      <td>True</td>\n",
       "      <td>11</td>\n",
       "      <td>22037.167504</td>\n",
       "      <td>1592</td>\n",
       "      <td>False</td>\n",
       "      <td>True</td>\n",
       "      <td>False</td>\n",
       "      <td>False</td>\n",
       "      <td>15</td>\n",
       "      <td>288850.92</td>\n",
       "      <td>...</td>\n",
       "      <td>878.448591</td>\n",
       "      <td>771671.926667</td>\n",
       "      <td>2.252054</td>\n",
       "      <td>2.077083e+05</td>\n",
       "      <td>611811.0</td>\n",
       "      <td>31545.0</td>\n",
       "      <td>1.719894e+05</td>\n",
       "      <td>2.958036e+10</td>\n",
       "      <td>1.075537</td>\n",
       "      <td>True</td>\n",
       "    </tr>\n",
       "    <tr>\n",
       "      <td>2</td>\n",
       "      <td>True</td>\n",
       "      <td>0</td>\n",
       "      <td>0.354460</td>\n",
       "      <td>37</td>\n",
       "      <td>False</td>\n",
       "      <td>False</td>\n",
       "      <td>False</td>\n",
       "      <td>False</td>\n",
       "      <td>2</td>\n",
       "      <td>22.84</td>\n",
       "      <td>...</td>\n",
       "      <td>2.827248</td>\n",
       "      <td>7.993333</td>\n",
       "      <td>4.049417</td>\n",
       "      <td>2.232875e+06</td>\n",
       "      <td>7637239.0</td>\n",
       "      <td>92.0</td>\n",
       "      <td>2.328249e+06</td>\n",
       "      <td>5.420744e+12</td>\n",
       "      <td>0.828757</td>\n",
       "      <td>True</td>\n",
       "    </tr>\n",
       "    <tr>\n",
       "      <td>3</td>\n",
       "      <td>True</td>\n",
       "      <td>128</td>\n",
       "      <td>1.542222</td>\n",
       "      <td>1144</td>\n",
       "      <td>False</td>\n",
       "      <td>False</td>\n",
       "      <td>False</td>\n",
       "      <td>False</td>\n",
       "      <td>10</td>\n",
       "      <td>36.72</td>\n",
       "      <td>...</td>\n",
       "      <td>1.683251</td>\n",
       "      <td>2.833333</td>\n",
       "      <td>0.963009</td>\n",
       "      <td>1.260785e+05</td>\n",
       "      <td>343781.0</td>\n",
       "      <td>83938.0</td>\n",
       "      <td>8.045028e+04</td>\n",
       "      <td>6.472248e+09</td>\n",
       "      <td>1.596275</td>\n",
       "      <td>True</td>\n",
       "    </tr>\n",
       "    <tr>\n",
       "      <td>4</td>\n",
       "      <td>True</td>\n",
       "      <td>60</td>\n",
       "      <td>327728.000000</td>\n",
       "      <td>392</td>\n",
       "      <td>False</td>\n",
       "      <td>False</td>\n",
       "      <td>True</td>\n",
       "      <td>False</td>\n",
       "      <td>1</td>\n",
       "      <td>8956.64</td>\n",
       "      <td>...</td>\n",
       "      <td>123.279128</td>\n",
       "      <td>15197.743333</td>\n",
       "      <td>2.519276</td>\n",
       "      <td>3.287153e+05</td>\n",
       "      <td>2955259.0</td>\n",
       "      <td>64159.0</td>\n",
       "      <td>5.828985e+05</td>\n",
       "      <td>3.397707e+11</td>\n",
       "      <td>4.056672</td>\n",
       "      <td>True</td>\n",
       "    </tr>\n",
       "    <tr>\n",
       "      <td>5</td>\n",
       "      <td>True</td>\n",
       "      <td>0</td>\n",
       "      <td>777086.000000</td>\n",
       "      <td>2216</td>\n",
       "      <td>False</td>\n",
       "      <td>True</td>\n",
       "      <td>False</td>\n",
       "      <td>False</td>\n",
       "      <td>0</td>\n",
       "      <td>10726.48</td>\n",
       "      <td>...</td>\n",
       "      <td>181.741685</td>\n",
       "      <td>33030.040000</td>\n",
       "      <td>1.626493</td>\n",
       "      <td>1.520838e+05</td>\n",
       "      <td>490864.0</td>\n",
       "      <td>45009.0</td>\n",
       "      <td>1.307548e+05</td>\n",
       "      <td>1.709682e+10</td>\n",
       "      <td>1.812694</td>\n",
       "      <td>True</td>\n",
       "    </tr>\n",
       "  </tbody>\n",
       "</table>\n",
       "<p>5 rows × 28 columns</p>\n",
       "</div>"
      ],
      "text/plain": [
       "   profile_pic  biography       ff_ratio  media_count  is_private  \\\n",
       "0         True         11   22037.167504         1592       False   \n",
       "2         True          0       0.354460           37       False   \n",
       "3         True        128       1.542222         1144       False   \n",
       "4         True         60  327728.000000          392       False   \n",
       "5         True          0  777086.000000         2216       False   \n",
       "\n",
       "   is_verified  is_business_account  is_joined_recently  highlight_reel_count  \\\n",
       "0         True                False               False                    15   \n",
       "2        False                False               False                     2   \n",
       "3        False                False               False                    10   \n",
       "4        False                 True               False                     1   \n",
       "5         True                False               False                     0   \n",
       "\n",
       "   average_likes  ...  std_comments   var_comments  skw_comments  \\\n",
       "0      288850.92  ...    878.448591  771671.926667      2.252054   \n",
       "2          22.84  ...      2.827248       7.993333      4.049417   \n",
       "3          36.72  ...      1.683251       2.833333      0.963009   \n",
       "4        8956.64  ...    123.279128   15197.743333      2.519276   \n",
       "5       10726.48  ...    181.741685   33030.040000      1.626493   \n",
       "\n",
       "   mean_time_between_posts  max_time_between_posts  min_time_between_posts  \\\n",
       "0             2.077083e+05                611811.0                 31545.0   \n",
       "2             2.232875e+06               7637239.0                    92.0   \n",
       "3             1.260785e+05                343781.0                 83938.0   \n",
       "4             3.287153e+05               2955259.0                 64159.0   \n",
       "5             1.520838e+05                490864.0                 45009.0   \n",
       "\n",
       "   std_time_between_posts  var_time_between_posts  skw_time_between_posts  \\\n",
       "0            1.719894e+05            2.958036e+10                1.075537   \n",
       "2            2.328249e+06            5.420744e+12                0.828757   \n",
       "3            8.045028e+04            6.472248e+09                1.596275   \n",
       "4            5.828985e+05            3.397707e+11                4.056672   \n",
       "5            1.307548e+05            1.709682e+10                1.812694   \n",
       "\n",
       "   real_account  \n",
       "0          True  \n",
       "2          True  \n",
       "3          True  \n",
       "4          True  \n",
       "5          True  \n",
       "\n",
       "[5 rows x 28 columns]"
      ]
     },
     "execution_count": 71,
     "metadata": {},
     "output_type": "execute_result"
    }
   ],
   "source": [
    "df.head()"
   ]
  },
  {
   "cell_type": "code",
   "execution_count": 72,
   "metadata": {},
   "outputs": [],
   "source": [
    "x_train, x_test, y_train, y_test = train_test_split(df, targets, test_size = 0.2, random_state = 12345)"
   ]
  },
  {
   "cell_type": "code",
   "execution_count": 93,
   "metadata": {},
   "outputs": [],
   "source": [
    "rf = RandomForestClassifier(n_estimators=1,random_state=0)"
   ]
  },
  {
   "cell_type": "code",
   "execution_count": 94,
   "metadata": {},
   "outputs": [
    {
     "data": {
      "text/plain": [
       "RandomForestClassifier(bootstrap=True, class_weight=None, criterion='gini',\n",
       "                       max_depth=None, max_features='auto', max_leaf_nodes=None,\n",
       "                       min_impurity_decrease=0.0, min_impurity_split=None,\n",
       "                       min_samples_leaf=1, min_samples_split=2,\n",
       "                       min_weight_fraction_leaf=0.0, n_estimators=1,\n",
       "                       n_jobs=None, oob_score=False, random_state=0, verbose=0,\n",
       "                       warm_start=False)"
      ]
     },
     "execution_count": 94,
     "metadata": {},
     "output_type": "execute_result"
    }
   ],
   "source": [
    "rf.fit(x_train, y_train)"
   ]
  },
  {
   "cell_type": "code",
   "execution_count": 95,
   "metadata": {},
   "outputs": [],
   "source": [
    "rf_pred = rf.predict(x_test)"
   ]
  },
  {
   "cell_type": "code",
   "execution_count": 96,
   "metadata": {},
   "outputs": [],
   "source": [
    "from sklearn.metrics import confusion_matrix, classification_report"
   ]
  },
  {
   "cell_type": "code",
   "execution_count": 97,
   "metadata": {},
   "outputs": [
    {
     "name": "stdout",
     "output_type": "stream",
     "text": [
      "[[1157    0]\n",
      " [   0 1139]]\n"
     ]
    }
   ],
   "source": [
    "print(confusion_matrix(y_test, rf_pred))"
   ]
  },
  {
   "cell_type": "code",
   "execution_count": 98,
   "metadata": {},
   "outputs": [
    {
     "name": "stdout",
     "output_type": "stream",
     "text": [
      "              precision    recall  f1-score   support\n",
      "\n",
      "       False       1.00      1.00      1.00      1157\n",
      "        True       1.00      1.00      1.00      1139\n",
      "\n",
      "    accuracy                           1.00      2296\n",
      "   macro avg       1.00      1.00      1.00      2296\n",
      "weighted avg       1.00      1.00      1.00      2296\n",
      "\n"
     ]
    }
   ],
   "source": [
    "print(classification_report(y_test, rf_pred))"
   ]
  },
  {
   "cell_type": "code",
   "execution_count": 79,
   "metadata": {},
   "outputs": [],
   "source": [
    "from sklearn import tree\n",
    "import pydotplus\n",
    "from IPython.display import Image\n",
    "\n",
    "features=list(df.columns[0:11])\n"
   ]
  },
  {
   "cell_type": "code",
   "execution_count": 80,
   "metadata": {},
   "outputs": [
    {
     "ename": "NameError",
     "evalue": "name 'dtc' is not defined",
     "output_type": "error",
     "traceback": [
      "\u001b[0;31m---------------------------------------------------------------------------\u001b[0m",
      "\u001b[0;31mNameError\u001b[0m                                 Traceback (most recent call last)",
      "\u001b[0;32m<ipython-input-80-c2d488093188>\u001b[0m in \u001b[0;36m<module>\u001b[0;34m\u001b[0m\n\u001b[0;32m----> 1\u001b[0;31m dot_data = tree.export_graphviz(dtc, out_file=None,\n\u001b[0m\u001b[1;32m      2\u001b[0m                          \u001b[0mfeature_names\u001b[0m\u001b[0;34m=\u001b[0m\u001b[0mfeatures\u001b[0m\u001b[0;34m,\u001b[0m\u001b[0mclass_names\u001b[0m\u001b[0;34m=\u001b[0m\u001b[0;34m[\u001b[0m\u001b[0;34m'Fake'\u001b[0m\u001b[0;34m,\u001b[0m\u001b[0;34m'Real'\u001b[0m\u001b[0;34m]\u001b[0m\u001b[0;34m,\u001b[0m\u001b[0;34m\u001b[0m\u001b[0;34m\u001b[0m\u001b[0m\n\u001b[1;32m      3\u001b[0m                          \u001b[0mfilled\u001b[0m\u001b[0;34m=\u001b[0m\u001b[0;32mTrue\u001b[0m\u001b[0;34m,\u001b[0m \u001b[0mrounded\u001b[0m\u001b[0;34m=\u001b[0m\u001b[0;32mTrue\u001b[0m\u001b[0;34m,\u001b[0m\u001b[0;34m\u001b[0m\u001b[0;34m\u001b[0m\u001b[0m\n\u001b[1;32m      4\u001b[0m                          special_characters=True)  \n\u001b[1;32m      5\u001b[0m \u001b[0mgraph\u001b[0m \u001b[0;34m=\u001b[0m \u001b[0mpydotplus\u001b[0m\u001b[0;34m.\u001b[0m\u001b[0mgraph_from_dot_data\u001b[0m\u001b[0;34m(\u001b[0m\u001b[0mdot_data\u001b[0m\u001b[0;34m)\u001b[0m\u001b[0;34m\u001b[0m\u001b[0;34m\u001b[0m\u001b[0m\n",
      "\u001b[0;31mNameError\u001b[0m: name 'dtc' is not defined"
     ]
    }
   ],
   "source": [
    "dot_data = tree.export_graphviz(dtc, out_file=None,\n",
    "                         feature_names=features,class_names=['Fake','Real'],\n",
    "                         filled=True, rounded=True,  \n",
    "                         special_characters=True)  \n",
    "graph = pydotplus.graph_from_dot_data(dot_data)  \n",
    "Image(graph.create_png())  "
   ]
  },
  {
   "cell_type": "code",
   "execution_count": null,
   "metadata": {},
   "outputs": [],
   "source": []
  }
 ],
 "metadata": {
  "kernelspec": {
   "display_name": "Python 3",
   "language": "python",
   "name": "python3"
  },
  "language_info": {
   "codemirror_mode": {
    "name": "ipython",
    "version": 3
   },
   "file_extension": ".py",
   "mimetype": "text/x-python",
   "name": "python",
   "nbconvert_exporter": "python",
   "pygments_lexer": "ipython3",
   "version": "3.7.4"
  }
 },
 "nbformat": 4,
 "nbformat_minor": 2
}
