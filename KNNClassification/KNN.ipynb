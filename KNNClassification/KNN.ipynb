{
 "cells": [
  {
   "cell_type": "markdown",
   "metadata": {},
   "source": [
    "# KNN Classification"
   ]
  },
  {
   "cell_type": "code",
   "execution_count": 1,
   "metadata": {},
   "outputs": [],
   "source": [
    "import pandas as pd\n",
    "import numpy as np\n",
    "import matplotlib.pyplot as plt\n",
    "%matplotlib inline"
   ]
  },
  {
   "cell_type": "code",
   "execution_count": 2,
   "metadata": {},
   "outputs": [],
   "source": [
    "from sklearn.model_selection import train_test_split\n",
    "from sklearn.neighbors import KNeighborsClassifier\n",
    "from sklearn.preprocessing import StandardScaler, MinMaxScaler"
   ]
  },
  {
   "cell_type": "code",
   "execution_count": 3,
   "metadata": {},
   "outputs": [],
   "source": [
    "df_real = pd.read_csv('../data/balanced_real_data.csv')\n",
    "df_fake = pd.read_csv('../data/balanced_fake_data.csv')"
   ]
  },
  {
   "cell_type": "code",
   "execution_count": 4,
   "metadata": {},
   "outputs": [
    {
     "data": {
      "text/html": [
       "<div>\n",
       "<style scoped>\n",
       "    .dataframe tbody tr th:only-of-type {\n",
       "        vertical-align: middle;\n",
       "    }\n",
       "\n",
       "    .dataframe tbody tr th {\n",
       "        vertical-align: top;\n",
       "    }\n",
       "\n",
       "    .dataframe thead th {\n",
       "        text-align: right;\n",
       "    }\n",
       "</style>\n",
       "<table border=\"1\" class=\"dataframe\">\n",
       "  <thead>\n",
       "    <tr style=\"text-align: right;\">\n",
       "      <th></th>\n",
       "      <th>username</th>\n",
       "      <th>profile_pic</th>\n",
       "      <th>biography</th>\n",
       "      <th>follows_count</th>\n",
       "      <th>followed_by_count</th>\n",
       "      <th>ff_ratio</th>\n",
       "      <th>media_count</th>\n",
       "      <th>is_private</th>\n",
       "      <th>is_verified</th>\n",
       "      <th>is_business_account</th>\n",
       "      <th>...</th>\n",
       "      <th>std_comments</th>\n",
       "      <th>var_comments</th>\n",
       "      <th>skw_comments</th>\n",
       "      <th>mean_time_between_posts</th>\n",
       "      <th>max_time_between_posts</th>\n",
       "      <th>min_time_between_posts</th>\n",
       "      <th>std_time_between_posts</th>\n",
       "      <th>var_time_between_posts</th>\n",
       "      <th>skw_time_between_posts</th>\n",
       "      <th>real_account</th>\n",
       "    </tr>\n",
       "  </thead>\n",
       "  <tbody>\n",
       "    <tr>\n",
       "      <td>0</td>\n",
       "      <td>irinashayk</td>\n",
       "      <td>True</td>\n",
       "      <td>11</td>\n",
       "      <td>597</td>\n",
       "      <td>13156189</td>\n",
       "      <td>22037.167504</td>\n",
       "      <td>1592</td>\n",
       "      <td>False</td>\n",
       "      <td>True</td>\n",
       "      <td>False</td>\n",
       "      <td>...</td>\n",
       "      <td>878.448591</td>\n",
       "      <td>771671.926667</td>\n",
       "      <td>2.252054</td>\n",
       "      <td>2.077083e+05</td>\n",
       "      <td>611811.0</td>\n",
       "      <td>31545.0</td>\n",
       "      <td>1.719894e+05</td>\n",
       "      <td>2.958036e+10</td>\n",
       "      <td>1.075537</td>\n",
       "      <td>True</td>\n",
       "    </tr>\n",
       "    <tr>\n",
       "      <td>1</td>\n",
       "      <td>dementieva_a______</td>\n",
       "      <td>True</td>\n",
       "      <td>0</td>\n",
       "      <td>423</td>\n",
       "      <td>192</td>\n",
       "      <td>0.453901</td>\n",
       "      <td>50</td>\n",
       "      <td>True</td>\n",
       "      <td>False</td>\n",
       "      <td>False</td>\n",
       "      <td>...</td>\n",
       "      <td>NaN</td>\n",
       "      <td>NaN</td>\n",
       "      <td>NaN</td>\n",
       "      <td>NaN</td>\n",
       "      <td>NaN</td>\n",
       "      <td>NaN</td>\n",
       "      <td>NaN</td>\n",
       "      <td>NaN</td>\n",
       "      <td>NaN</td>\n",
       "      <td>True</td>\n",
       "    </tr>\n",
       "    <tr>\n",
       "      <td>2</td>\n",
       "      <td>lorenz.fini</td>\n",
       "      <td>True</td>\n",
       "      <td>0</td>\n",
       "      <td>426</td>\n",
       "      <td>151</td>\n",
       "      <td>0.354460</td>\n",
       "      <td>37</td>\n",
       "      <td>False</td>\n",
       "      <td>False</td>\n",
       "      <td>False</td>\n",
       "      <td>...</td>\n",
       "      <td>2.827248</td>\n",
       "      <td>7.993333</td>\n",
       "      <td>4.049417</td>\n",
       "      <td>2.232875e+06</td>\n",
       "      <td>7637239.0</td>\n",
       "      <td>92.0</td>\n",
       "      <td>2.328249e+06</td>\n",
       "      <td>5.420744e+12</td>\n",
       "      <td>0.828757</td>\n",
       "      <td>True</td>\n",
       "    </tr>\n",
       "    <tr>\n",
       "      <td>3</td>\n",
       "      <td>jessicagiulia</td>\n",
       "      <td>True</td>\n",
       "      <td>128</td>\n",
       "      <td>450</td>\n",
       "      <td>694</td>\n",
       "      <td>1.542222</td>\n",
       "      <td>1144</td>\n",
       "      <td>False</td>\n",
       "      <td>False</td>\n",
       "      <td>False</td>\n",
       "      <td>...</td>\n",
       "      <td>1.683251</td>\n",
       "      <td>2.833333</td>\n",
       "      <td>0.963009</td>\n",
       "      <td>1.260785e+05</td>\n",
       "      <td>343781.0</td>\n",
       "      <td>83938.0</td>\n",
       "      <td>8.045028e+04</td>\n",
       "      <td>6.472248e+09</td>\n",
       "      <td>1.596275</td>\n",
       "      <td>True</td>\n",
       "    </tr>\n",
       "    <tr>\n",
       "      <td>4</td>\n",
       "      <td>il_socio_aci</td>\n",
       "      <td>True</td>\n",
       "      <td>60</td>\n",
       "      <td>1</td>\n",
       "      <td>327728</td>\n",
       "      <td>327728.000000</td>\n",
       "      <td>392</td>\n",
       "      <td>False</td>\n",
       "      <td>False</td>\n",
       "      <td>True</td>\n",
       "      <td>...</td>\n",
       "      <td>123.279128</td>\n",
       "      <td>15197.743333</td>\n",
       "      <td>2.519276</td>\n",
       "      <td>3.287153e+05</td>\n",
       "      <td>2955259.0</td>\n",
       "      <td>64159.0</td>\n",
       "      <td>5.828985e+05</td>\n",
       "      <td>3.397707e+11</td>\n",
       "      <td>4.056672</td>\n",
       "      <td>True</td>\n",
       "    </tr>\n",
       "  </tbody>\n",
       "</table>\n",
       "<p>5 rows × 31 columns</p>\n",
       "</div>"
      ],
      "text/plain": [
       "             username  profile_pic  biography  follows_count  \\\n",
       "0          irinashayk         True         11            597   \n",
       "1  dementieva_a______         True          0            423   \n",
       "2         lorenz.fini         True          0            426   \n",
       "3       jessicagiulia         True        128            450   \n",
       "4        il_socio_aci         True         60              1   \n",
       "\n",
       "   followed_by_count       ff_ratio  media_count  is_private  is_verified  \\\n",
       "0           13156189   22037.167504         1592       False         True   \n",
       "1                192       0.453901           50        True        False   \n",
       "2                151       0.354460           37       False        False   \n",
       "3                694       1.542222         1144       False        False   \n",
       "4             327728  327728.000000          392       False        False   \n",
       "\n",
       "   is_business_account  ...  std_comments   var_comments  skw_comments  \\\n",
       "0                False  ...    878.448591  771671.926667      2.252054   \n",
       "1                False  ...           NaN            NaN           NaN   \n",
       "2                False  ...      2.827248       7.993333      4.049417   \n",
       "3                False  ...      1.683251       2.833333      0.963009   \n",
       "4                 True  ...    123.279128   15197.743333      2.519276   \n",
       "\n",
       "   mean_time_between_posts  max_time_between_posts  min_time_between_posts  \\\n",
       "0             2.077083e+05                611811.0                 31545.0   \n",
       "1                      NaN                     NaN                     NaN   \n",
       "2             2.232875e+06               7637239.0                    92.0   \n",
       "3             1.260785e+05                343781.0                 83938.0   \n",
       "4             3.287153e+05               2955259.0                 64159.0   \n",
       "\n",
       "   std_time_between_posts  var_time_between_posts  skw_time_between_posts  \\\n",
       "0            1.719894e+05            2.958036e+10                1.075537   \n",
       "1                     NaN                     NaN                     NaN   \n",
       "2            2.328249e+06            5.420744e+12                0.828757   \n",
       "3            8.045028e+04            6.472248e+09                1.596275   \n",
       "4            5.828985e+05            3.397707e+11                4.056672   \n",
       "\n",
       "   real_account  \n",
       "0          True  \n",
       "1          True  \n",
       "2          True  \n",
       "3          True  \n",
       "4          True  \n",
       "\n",
       "[5 rows x 31 columns]"
      ]
     },
     "execution_count": 4,
     "metadata": {},
     "output_type": "execute_result"
    }
   ],
   "source": [
    "df_real.head()"
   ]
  },
  {
   "cell_type": "code",
   "execution_count": 5,
   "metadata": {},
   "outputs": [
    {
     "data": {
      "text/html": [
       "<div>\n",
       "<style scoped>\n",
       "    .dataframe tbody tr th:only-of-type {\n",
       "        vertical-align: middle;\n",
       "    }\n",
       "\n",
       "    .dataframe tbody tr th {\n",
       "        vertical-align: top;\n",
       "    }\n",
       "\n",
       "    .dataframe thead th {\n",
       "        text-align: right;\n",
       "    }\n",
       "</style>\n",
       "<table border=\"1\" class=\"dataframe\">\n",
       "  <thead>\n",
       "    <tr style=\"text-align: right;\">\n",
       "      <th></th>\n",
       "      <th>username</th>\n",
       "      <th>profile_pic</th>\n",
       "      <th>biography</th>\n",
       "      <th>follows_count</th>\n",
       "      <th>followed_by_count</th>\n",
       "      <th>ff_ratio</th>\n",
       "      <th>media_count</th>\n",
       "      <th>is_private</th>\n",
       "      <th>is_verified</th>\n",
       "      <th>is_business_account</th>\n",
       "      <th>...</th>\n",
       "      <th>std_comments</th>\n",
       "      <th>var_comments</th>\n",
       "      <th>skw_comments</th>\n",
       "      <th>mean_time_between_posts</th>\n",
       "      <th>max_time_between_posts</th>\n",
       "      <th>min_time_between_posts</th>\n",
       "      <th>std_time_between_posts</th>\n",
       "      <th>var_time_between_posts</th>\n",
       "      <th>skw_time_between_posts</th>\n",
       "      <th>real_account</th>\n",
       "    </tr>\n",
       "  </thead>\n",
       "  <tbody>\n",
       "    <tr>\n",
       "      <td>0</td>\n",
       "      <td>_s.a.v.a__v.l.a.d_</td>\n",
       "      <td>True</td>\n",
       "      <td>56</td>\n",
       "      <td>2321</td>\n",
       "      <td>747</td>\n",
       "      <td>0.321844</td>\n",
       "      <td>10</td>\n",
       "      <td>True</td>\n",
       "      <td>False</td>\n",
       "      <td>False</td>\n",
       "      <td>...</td>\n",
       "      <td>NaN</td>\n",
       "      <td>NaN</td>\n",
       "      <td>NaN</td>\n",
       "      <td>NaN</td>\n",
       "      <td>NaN</td>\n",
       "      <td>NaN</td>\n",
       "      <td>NaN</td>\n",
       "      <td>NaN</td>\n",
       "      <td>NaN</td>\n",
       "      <td>False</td>\n",
       "    </tr>\n",
       "    <tr>\n",
       "      <td>1</td>\n",
       "      <td>pp_sport_julduz</td>\n",
       "      <td>True</td>\n",
       "      <td>147</td>\n",
       "      <td>4247</td>\n",
       "      <td>611</td>\n",
       "      <td>0.143866</td>\n",
       "      <td>99</td>\n",
       "      <td>False</td>\n",
       "      <td>False</td>\n",
       "      <td>True</td>\n",
       "      <td>...</td>\n",
       "      <td>0.678233</td>\n",
       "      <td>0.460000</td>\n",
       "      <td>2.068805</td>\n",
       "      <td>80254.208333</td>\n",
       "      <td>1466742.0</td>\n",
       "      <td>10.0</td>\n",
       "      <td>2.973342e+05</td>\n",
       "      <td>8.840762e+10</td>\n",
       "      <td>4.488934</td>\n",
       "      <td>False</td>\n",
       "    </tr>\n",
       "    <tr>\n",
       "      <td>2</td>\n",
       "      <td>clark5.7lyfe</td>\n",
       "      <td>True</td>\n",
       "      <td>127</td>\n",
       "      <td>1764</td>\n",
       "      <td>1613</td>\n",
       "      <td>0.914399</td>\n",
       "      <td>64</td>\n",
       "      <td>False</td>\n",
       "      <td>False</td>\n",
       "      <td>False</td>\n",
       "      <td>...</td>\n",
       "      <td>10.224643</td>\n",
       "      <td>104.543333</td>\n",
       "      <td>3.196293</td>\n",
       "      <td>333885.000000</td>\n",
       "      <td>836121.0</td>\n",
       "      <td>27637.0</td>\n",
       "      <td>2.240602e+05</td>\n",
       "      <td>5.020299e+10</td>\n",
       "      <td>0.519589</td>\n",
       "      <td>False</td>\n",
       "    </tr>\n",
       "    <tr>\n",
       "      <td>3</td>\n",
       "      <td>nata53149</td>\n",
       "      <td>True</td>\n",
       "      <td>0</td>\n",
       "      <td>68</td>\n",
       "      <td>65</td>\n",
       "      <td>0.955882</td>\n",
       "      <td>1</td>\n",
       "      <td>False</td>\n",
       "      <td>False</td>\n",
       "      <td>False</td>\n",
       "      <td>...</td>\n",
       "      <td>0.000000</td>\n",
       "      <td>0.000000</td>\n",
       "      <td>0.000000</td>\n",
       "      <td>0.000000</td>\n",
       "      <td>0.0</td>\n",
       "      <td>0.0</td>\n",
       "      <td>0.000000e+00</td>\n",
       "      <td>0.000000e+00</td>\n",
       "      <td>0.000000</td>\n",
       "      <td>False</td>\n",
       "    </tr>\n",
       "    <tr>\n",
       "      <td>4</td>\n",
       "      <td>olgashatko.63</td>\n",
       "      <td>True</td>\n",
       "      <td>80</td>\n",
       "      <td>242</td>\n",
       "      <td>134</td>\n",
       "      <td>0.553719</td>\n",
       "      <td>80</td>\n",
       "      <td>False</td>\n",
       "      <td>False</td>\n",
       "      <td>False</td>\n",
       "      <td>...</td>\n",
       "      <td>0.624500</td>\n",
       "      <td>0.390000</td>\n",
       "      <td>4.086591</td>\n",
       "      <td>694503.000000</td>\n",
       "      <td>6477346.0</td>\n",
       "      <td>8.0</td>\n",
       "      <td>1.489132e+06</td>\n",
       "      <td>2.217513e+12</td>\n",
       "      <td>2.800966</td>\n",
       "      <td>False</td>\n",
       "    </tr>\n",
       "  </tbody>\n",
       "</table>\n",
       "<p>5 rows × 31 columns</p>\n",
       "</div>"
      ],
      "text/plain": [
       "             username  profile_pic  biography  follows_count  \\\n",
       "0  _s.a.v.a__v.l.a.d_         True         56           2321   \n",
       "1     pp_sport_julduz         True        147           4247   \n",
       "2        clark5.7lyfe         True        127           1764   \n",
       "3           nata53149         True          0             68   \n",
       "4       olgashatko.63         True         80            242   \n",
       "\n",
       "   followed_by_count  ff_ratio  media_count  is_private  is_verified  \\\n",
       "0                747  0.321844           10        True        False   \n",
       "1                611  0.143866           99       False        False   \n",
       "2               1613  0.914399           64       False        False   \n",
       "3                 65  0.955882            1       False        False   \n",
       "4                134  0.553719           80       False        False   \n",
       "\n",
       "   is_business_account  ...  std_comments  var_comments  skw_comments  \\\n",
       "0                False  ...           NaN           NaN           NaN   \n",
       "1                 True  ...      0.678233      0.460000      2.068805   \n",
       "2                False  ...     10.224643    104.543333      3.196293   \n",
       "3                False  ...      0.000000      0.000000      0.000000   \n",
       "4                False  ...      0.624500      0.390000      4.086591   \n",
       "\n",
       "   mean_time_between_posts  max_time_between_posts  min_time_between_posts  \\\n",
       "0                      NaN                     NaN                     NaN   \n",
       "1             80254.208333               1466742.0                    10.0   \n",
       "2            333885.000000                836121.0                 27637.0   \n",
       "3                 0.000000                     0.0                     0.0   \n",
       "4            694503.000000               6477346.0                     8.0   \n",
       "\n",
       "   std_time_between_posts  var_time_between_posts  skw_time_between_posts  \\\n",
       "0                     NaN                     NaN                     NaN   \n",
       "1            2.973342e+05            8.840762e+10                4.488934   \n",
       "2            2.240602e+05            5.020299e+10                0.519589   \n",
       "3            0.000000e+00            0.000000e+00                0.000000   \n",
       "4            1.489132e+06            2.217513e+12                2.800966   \n",
       "\n",
       "   real_account  \n",
       "0         False  \n",
       "1         False  \n",
       "2         False  \n",
       "3         False  \n",
       "4         False  \n",
       "\n",
       "[5 rows x 31 columns]"
      ]
     },
     "execution_count": 5,
     "metadata": {},
     "output_type": "execute_result"
    }
   ],
   "source": [
    "df_fake.head()"
   ]
  },
  {
   "cell_type": "code",
   "execution_count": 6,
   "metadata": {},
   "outputs": [],
   "source": [
    "df=pd.concat([df_real,df_fake],ignore_index=True)"
   ]
  },
  {
   "cell_type": "code",
   "execution_count": 7,
   "metadata": {},
   "outputs": [
    {
     "name": "stdout",
     "output_type": "stream",
     "text": [
      "                  username  profile_pic  biography  follows_count  \\\n",
      "0               irinashayk         True         11            597   \n",
      "1       dementieva_a______         True          0            423   \n",
      "2              lorenz.fini         True          0            426   \n",
      "3            jessicagiulia         True        128            450   \n",
      "4             il_socio_aci         True         60              1   \n",
      "...                    ...          ...        ...            ...   \n",
      "15303           tanku26_02         True         31           1440   \n",
      "15304      leyes.naturales         True          3           3040   \n",
      "15305           dyakonov05         True          0           6638   \n",
      "15306  jason_steven_kettle         True         66           4501   \n",
      "15307           ramon.educ         True         45            695   \n",
      "\n",
      "       followed_by_count       ff_ratio  media_count  is_private  is_verified  \\\n",
      "0               13156189   22037.167504         1592       False         True   \n",
      "1                    192       0.453901           50        True        False   \n",
      "2                    151       0.354460           37       False        False   \n",
      "3                    694       1.542222         1144       False        False   \n",
      "4                 327728  327728.000000          392       False        False   \n",
      "...                  ...            ...          ...         ...          ...   \n",
      "15303                504       0.350000           12        True        False   \n",
      "15304                 43       0.014145            3       False        False   \n",
      "15305                 86       0.012956            1       False        False   \n",
      "15306              10424       2.315930           63       False        False   \n",
      "15307                 18       0.025899            3       False        False   \n",
      "\n",
      "       is_business_account  ...  std_comments   var_comments  skw_comments  \\\n",
      "0                    False  ...    878.448591  771671.926667      2.252054   \n",
      "1                    False  ...           NaN            NaN           NaN   \n",
      "2                    False  ...      2.827248       7.993333      4.049417   \n",
      "3                    False  ...      1.683251       2.833333      0.963009   \n",
      "4                     True  ...    123.279128   15197.743333      2.519276   \n",
      "...                    ...  ...           ...            ...           ...   \n",
      "15303                False  ...           NaN            NaN           NaN   \n",
      "15304                False  ...      0.000000       0.000000      0.000000   \n",
      "15305                False  ...      0.000000       0.000000      0.000000   \n",
      "15306                False  ...      5.473268      29.956667      0.564568   \n",
      "15307                False  ...      0.577350       0.333333      0.707107   \n",
      "\n",
      "       mean_time_between_posts  max_time_between_posts  \\\n",
      "0                 2.077083e+05                611811.0   \n",
      "1                          NaN                     NaN   \n",
      "2                 2.232875e+06               7637239.0   \n",
      "3                 1.260785e+05                343781.0   \n",
      "4                 3.287153e+05               2955259.0   \n",
      "...                        ...                     ...   \n",
      "15303                      NaN                     NaN   \n",
      "15304             9.456275e+05               1890345.0   \n",
      "15305             0.000000e+00                     0.0   \n",
      "15306             5.045359e+05               3194892.0   \n",
      "15307             6.900000e+01                   106.0   \n",
      "\n",
      "       min_time_between_posts  std_time_between_posts  var_time_between_posts  \\\n",
      "0                     31545.0            1.719894e+05            2.958036e+10   \n",
      "1                         NaN                     NaN                     NaN   \n",
      "2                        92.0            2.328249e+06            5.420744e+12   \n",
      "3                     83938.0            8.045028e+04            6.472248e+09   \n",
      "4                     64159.0            5.828985e+05            3.397707e+11   \n",
      "...                       ...                     ...                     ...   \n",
      "15303                     NaN                     NaN                     NaN   \n",
      "15304                   910.0            1.336032e+06            1.784982e+12   \n",
      "15305                     0.0            0.000000e+00            0.000000e+00   \n",
      "15306                  4898.0            8.275372e+05            6.848179e+11   \n",
      "15307                    32.0            5.232590e+01            2.738000e+03   \n",
      "\n",
      "       skw_time_between_posts  real_account  \n",
      "0                    1.075537          True  \n",
      "1                         NaN          True  \n",
      "2                    0.828757          True  \n",
      "3                    1.596275          True  \n",
      "4                    4.056672          True  \n",
      "...                       ...           ...  \n",
      "15303                     NaN         False  \n",
      "15304                0.000000         False  \n",
      "15305                0.000000         False  \n",
      "15306                2.331393         False  \n",
      "15307                0.000000         False  \n",
      "\n",
      "[15308 rows x 31 columns]\n"
     ]
    }
   ],
   "source": [
    "print(df)"
   ]
  },
  {
   "cell_type": "code",
   "execution_count": 8,
   "metadata": {
    "scrolled": true
   },
   "outputs": [
    {
     "name": "stdout",
     "output_type": "stream",
     "text": [
      "['username', 'profile_pic', 'biography', 'follows_count', 'followed_by_count', 'ff_ratio', 'media_count', 'is_private', 'is_verified', 'is_business_account', 'is_joined_recently', 'highlight_reel_count', 'average_likes', 'max_likes', 'min_likes', 'std_likes', 'var_likes', 'skw_likes', 'average_comments', 'max_comments', 'min_comments', 'std_comments', 'var_comments', 'skw_comments', 'mean_time_between_posts', 'max_time_between_posts', 'min_time_between_posts', 'std_time_between_posts', 'var_time_between_posts', 'skw_time_between_posts']\n"
     ]
    }
   ],
   "source": [
    "features_columns=list(df.columns[:30])\n",
    "# targets_column=list(df.columns[30:31])\n",
    "# df.head()\n",
    "print(features_columns)"
   ]
  },
  {
   "cell_type": "code",
   "execution_count": 9,
   "metadata": {},
   "outputs": [
    {
     "data": {
      "text/plain": [
       "(15308, 31)"
      ]
     },
     "execution_count": 9,
     "metadata": {},
     "output_type": "execute_result"
    }
   ],
   "source": [
    "df.shape"
   ]
  },
  {
   "cell_type": "code",
   "execution_count": 10,
   "metadata": {},
   "outputs": [],
   "source": [
    "targets = df['real_account'].values\n",
    "# The KNN doesn't work with NaN value so we have have to delete all the attributes about the statistics and take \n",
    "# only the non-statistics attribute \n",
    "df=df.loc[:,'profile_pic':'highlight_reel_count']"
   ]
  },
  {
   "cell_type": "code",
   "execution_count": 11,
   "metadata": {},
   "outputs": [
    {
     "data": {
      "text/plain": [
       "array([ True,  True,  True, ..., False, False, False])"
      ]
     },
     "execution_count": 11,
     "metadata": {},
     "output_type": "execute_result"
    }
   ],
   "source": [
    "targets"
   ]
  },
  {
   "cell_type": "code",
   "execution_count": 12,
   "metadata": {},
   "outputs": [],
   "source": [
    "# df.drop('real_account', axis=1, inplace=True)"
   ]
  },
  {
   "cell_type": "code",
   "execution_count": 13,
   "metadata": {},
   "outputs": [
    {
     "data": {
      "text/html": [
       "<div>\n",
       "<style scoped>\n",
       "    .dataframe tbody tr th:only-of-type {\n",
       "        vertical-align: middle;\n",
       "    }\n",
       "\n",
       "    .dataframe tbody tr th {\n",
       "        vertical-align: top;\n",
       "    }\n",
       "\n",
       "    .dataframe thead th {\n",
       "        text-align: right;\n",
       "    }\n",
       "</style>\n",
       "<table border=\"1\" class=\"dataframe\">\n",
       "  <thead>\n",
       "    <tr style=\"text-align: right;\">\n",
       "      <th></th>\n",
       "      <th>profile_pic</th>\n",
       "      <th>biography</th>\n",
       "      <th>follows_count</th>\n",
       "      <th>followed_by_count</th>\n",
       "      <th>ff_ratio</th>\n",
       "      <th>media_count</th>\n",
       "      <th>is_private</th>\n",
       "      <th>is_verified</th>\n",
       "      <th>is_business_account</th>\n",
       "      <th>is_joined_recently</th>\n",
       "      <th>highlight_reel_count</th>\n",
       "    </tr>\n",
       "  </thead>\n",
       "  <tbody>\n",
       "    <tr>\n",
       "      <td>0</td>\n",
       "      <td>True</td>\n",
       "      <td>11</td>\n",
       "      <td>597</td>\n",
       "      <td>13156189</td>\n",
       "      <td>22037.167504</td>\n",
       "      <td>1592</td>\n",
       "      <td>False</td>\n",
       "      <td>True</td>\n",
       "      <td>False</td>\n",
       "      <td>False</td>\n",
       "      <td>15</td>\n",
       "    </tr>\n",
       "    <tr>\n",
       "      <td>1</td>\n",
       "      <td>True</td>\n",
       "      <td>0</td>\n",
       "      <td>423</td>\n",
       "      <td>192</td>\n",
       "      <td>0.453901</td>\n",
       "      <td>50</td>\n",
       "      <td>True</td>\n",
       "      <td>False</td>\n",
       "      <td>False</td>\n",
       "      <td>False</td>\n",
       "      <td>0</td>\n",
       "    </tr>\n",
       "    <tr>\n",
       "      <td>2</td>\n",
       "      <td>True</td>\n",
       "      <td>0</td>\n",
       "      <td>426</td>\n",
       "      <td>151</td>\n",
       "      <td>0.354460</td>\n",
       "      <td>37</td>\n",
       "      <td>False</td>\n",
       "      <td>False</td>\n",
       "      <td>False</td>\n",
       "      <td>False</td>\n",
       "      <td>2</td>\n",
       "    </tr>\n",
       "    <tr>\n",
       "      <td>3</td>\n",
       "      <td>True</td>\n",
       "      <td>128</td>\n",
       "      <td>450</td>\n",
       "      <td>694</td>\n",
       "      <td>1.542222</td>\n",
       "      <td>1144</td>\n",
       "      <td>False</td>\n",
       "      <td>False</td>\n",
       "      <td>False</td>\n",
       "      <td>False</td>\n",
       "      <td>10</td>\n",
       "    </tr>\n",
       "    <tr>\n",
       "      <td>4</td>\n",
       "      <td>True</td>\n",
       "      <td>60</td>\n",
       "      <td>1</td>\n",
       "      <td>327728</td>\n",
       "      <td>327728.000000</td>\n",
       "      <td>392</td>\n",
       "      <td>False</td>\n",
       "      <td>False</td>\n",
       "      <td>True</td>\n",
       "      <td>False</td>\n",
       "      <td>1</td>\n",
       "    </tr>\n",
       "  </tbody>\n",
       "</table>\n",
       "</div>"
      ],
      "text/plain": [
       "   profile_pic  biography  follows_count  followed_by_count       ff_ratio  \\\n",
       "0         True         11            597           13156189   22037.167504   \n",
       "1         True          0            423                192       0.453901   \n",
       "2         True          0            426                151       0.354460   \n",
       "3         True        128            450                694       1.542222   \n",
       "4         True         60              1             327728  327728.000000   \n",
       "\n",
       "   media_count  is_private  is_verified  is_business_account  \\\n",
       "0         1592       False         True                False   \n",
       "1           50        True        False                False   \n",
       "2           37       False        False                False   \n",
       "3         1144       False        False                False   \n",
       "4          392       False        False                 True   \n",
       "\n",
       "   is_joined_recently  highlight_reel_count  \n",
       "0               False                    15  \n",
       "1               False                     0  \n",
       "2               False                     2  \n",
       "3               False                    10  \n",
       "4               False                     1  "
      ]
     },
     "execution_count": 13,
     "metadata": {},
     "output_type": "execute_result"
    }
   ],
   "source": [
    "df.head()"
   ]
  },
  {
   "cell_type": "code",
   "execution_count": 25,
   "metadata": {},
   "outputs": [],
   "source": [
    "df_sc = StandardScaler().fit_transform(df)"
   ]
  },
  {
   "cell_type": "code",
   "execution_count": 26,
   "metadata": {},
   "outputs": [],
   "source": [
    "x_train, x_test, y_train, y_test = train_test_split(df_sc, targets, test_size = 0.2, random_state = 12345)"
   ]
  },
  {
   "cell_type": "code",
   "execution_count": 27,
   "metadata": {},
   "outputs": [],
   "source": [
    "knn = KNeighborsClassifier()"
   ]
  },
  {
   "cell_type": "code",
   "execution_count": 28,
   "metadata": {},
   "outputs": [
    {
     "data": {
      "text/plain": [
       "KNeighborsClassifier(algorithm='auto', leaf_size=30, metric='minkowski',\n",
       "                     metric_params=None, n_jobs=None, n_neighbors=5, p=2,\n",
       "                     weights='uniform')"
      ]
     },
     "execution_count": 28,
     "metadata": {},
     "output_type": "execute_result"
    }
   ],
   "source": [
    "knn.fit(x_train, y_train)"
   ]
  },
  {
   "cell_type": "code",
   "execution_count": 29,
   "metadata": {},
   "outputs": [],
   "source": [
    "knn_pred = knn.predict(x_test)"
   ]
  },
  {
   "cell_type": "code",
   "execution_count": 30,
   "metadata": {},
   "outputs": [],
   "source": [
    "from sklearn.metrics import confusion_matrix, classification_report"
   ]
  },
  {
   "cell_type": "code",
   "execution_count": 31,
   "metadata": {},
   "outputs": [
    {
     "name": "stdout",
     "output_type": "stream",
     "text": [
      "[[1337  224]\n",
      " [ 195 1306]]\n"
     ]
    }
   ],
   "source": [
    "print(confusion_matrix(y_test, knn_pred))"
   ]
  },
  {
   "cell_type": "code",
   "execution_count": 32,
   "metadata": {},
   "outputs": [
    {
     "name": "stdout",
     "output_type": "stream",
     "text": [
      "              precision    recall  f1-score   support\n",
      "\n",
      "       False       0.87      0.86      0.86      1561\n",
      "        True       0.85      0.87      0.86      1501\n",
      "\n",
      "    accuracy                           0.86      3062\n",
      "   macro avg       0.86      0.86      0.86      3062\n",
      "weighted avg       0.86      0.86      0.86      3062\n",
      "\n"
     ]
    }
   ],
   "source": [
    "print(classification_report(y_test, knn_pred))"
   ]
  },
  {
   "cell_type": "code",
   "execution_count": 22,
   "metadata": {},
   "outputs": [],
   "source": [
    "err = []\n",
    "\n",
    "for i in range(1, 30):\n",
    "    \n",
    "    knn = KNeighborsClassifier(n_neighbors=i)\n",
    "    knn.fit(x_train, y_train)\n",
    "    pred_i = knn.predict(x_test)\n",
    "    err.append(np.mean(pred_i != y_test))"
   ]
  },
  {
   "cell_type": "code",
   "execution_count": 23,
   "metadata": {},
   "outputs": [
    {
     "data": {
      "text/plain": [
       "Text(0, 0.5, 'Tasso di errore')"
      ]
     },
     "execution_count": 23,
     "metadata": {},
     "output_type": "execute_result"
    },
    {
     "data": {
      "image/png": "[encoded data removed]",
      "text/plain": [
       "<Figure size 1008x576 with 1 Axes>"
      ]
     },
     "metadata": {
      "needs_background": "light"
     },
     "output_type": "display_data"
    }
   ],
   "source": [
    "plt.figure(figsize=(14, 8))\n",
    "plt.plot(range(1, 30), err, color='green', linestyle='dotted', marker='o',\n",
    "         markerfacecolor='red', markersize=12)\n",
    "plt.xlabel('Numero di k')\n",
    "plt.ylabel('Tasso di errore')"
   ]
  },
  {
   "cell_type": "code",
   "execution_count": 24,
   "metadata": {},
   "outputs": [
    {
     "name": "stdout",
     "output_type": "stream",
     "text": [
      "[[1255  306]\n",
      " [ 240 1261]]\n",
      "              precision    recall  f1-score   support\n",
      "\n",
      "       False       0.84      0.80      0.82      1561\n",
      "        True       0.80      0.84      0.82      1501\n",
      "\n",
      "    accuracy                           0.82      3062\n",
      "   macro avg       0.82      0.82      0.82      3062\n",
      "weighted avg       0.82      0.82      0.82      3062\n",
      "\n"
     ]
    }
   ],
   "source": [
    "knn = KNeighborsClassifier(n_neighbors=9)\n",
    "knn.fit(x_train, y_train)\n",
    "knn_pred = knn.predict(x_test)\n",
    "print(confusion_matrix(y_test, knn_pred))\n",
    "print(classification_report(y_test, knn_pred))"
   ]
  },
  {
   "cell_type": "code",
   "execution_count": null,
   "metadata": {},
   "outputs": [],
   "source": []
  }
 ],
 "metadata": {
  "kernelspec": {
   "display_name": "Python 3",
   "language": "python",
   "name": "python3"
  },
  "language_info": {
   "codemirror_mode": {
    "name": "ipython",
    "version": 3
   },
   "file_extension": ".py",
   "mimetype": "text/x-python",
   "name": "python",
   "nbconvert_exporter": "python",
   "pygments_lexer": "ipython3",
   "version": "3.7.4"
  }
 },
 "nbformat": 4,
 "nbformat_minor": 2
}
