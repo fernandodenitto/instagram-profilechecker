{
 "cells": [
  {
   "cell_type": "markdown",
   "metadata": {},
   "source": [
    "# KNN Classification"
   ]
  },
  {
   "cell_type": "code",
   "execution_count": 54,
   "metadata": {},
   "outputs": [],
   "source": [
    "import pandas as pd\n",
    "import numpy as np\n",
    "import matplotlib.pyplot as plt\n",
    "%matplotlib inline"
   ]
  },
  {
   "cell_type": "code",
   "execution_count": 10,
   "metadata": {},
   "outputs": [],
   "source": [
    "from sklearn.model_selection import train_test_split\n",
    "from sklearn.neighbors import KNeighborsClassifier\n",
    "from sklearn.preprocessing import StandardScaler"
   ]
  },
  {
   "cell_type": "code",
   "execution_count": 11,
   "metadata": {},
   "outputs": [],
   "source": [
    "df_real = pd.read_csv('../data/data_real.csv')\n",
    "df_fake = pd.read_csv('../data/data_fake.csv')"
   ]
  },
  {
   "cell_type": "code",
   "execution_count": 12,
   "metadata": {},
   "outputs": [
    {
     "data": {
      "text/html": [
       "<div>\n",
       "<style scoped>\n",
       "    .dataframe tbody tr th:only-of-type {\n",
       "        vertical-align: middle;\n",
       "    }\n",
       "\n",
       "    .dataframe tbody tr th {\n",
       "        vertical-align: top;\n",
       "    }\n",
       "\n",
       "    .dataframe thead th {\n",
       "        text-align: right;\n",
       "    }\n",
       "</style>\n",
       "<table border=\"1\" class=\"dataframe\">\n",
       "  <thead>\n",
       "    <tr style=\"text-align: right;\">\n",
       "      <th></th>\n",
       "      <th>profile_pic</th>\n",
       "      <th>biography</th>\n",
       "      <th>follows_count</th>\n",
       "      <th>followed_by_count</th>\n",
       "      <th>ff_ratio</th>\n",
       "      <th>media_count</th>\n",
       "      <th>is_private</th>\n",
       "      <th>is_verified</th>\n",
       "      <th>is_business_account</th>\n",
       "      <th>is_joined_recently</th>\n",
       "      <th>...</th>\n",
       "      <th>std_comments</th>\n",
       "      <th>var_comments</th>\n",
       "      <th>skw_comments</th>\n",
       "      <th>mean_time_between_posts</th>\n",
       "      <th>max_time_between_posts</th>\n",
       "      <th>min_time_between_posts</th>\n",
       "      <th>std_time_between_posts</th>\n",
       "      <th>var_time_between_posts</th>\n",
       "      <th>skw_time_between_posts</th>\n",
       "      <th>real_account</th>\n",
       "    </tr>\n",
       "  </thead>\n",
       "  <tbody>\n",
       "    <tr>\n",
       "      <td>0</td>\n",
       "      <td>True</td>\n",
       "      <td>False</td>\n",
       "      <td>1128</td>\n",
       "      <td>575</td>\n",
       "      <td>0.509300</td>\n",
       "      <td>322</td>\n",
       "      <td>False</td>\n",
       "      <td>False</td>\n",
       "      <td>False</td>\n",
       "      <td>False</td>\n",
       "      <td>...</td>\n",
       "      <td>1.527525</td>\n",
       "      <td>2.333333</td>\n",
       "      <td>1.131088</td>\n",
       "      <td>1.491866e+06</td>\n",
       "      <td>7517421.0</td>\n",
       "      <td>5.0</td>\n",
       "      <td>1.832700e+06</td>\n",
       "      <td>3.358789e+12</td>\n",
       "      <td>1.797422</td>\n",
       "      <td>True</td>\n",
       "    </tr>\n",
       "    <tr>\n",
       "      <td>1</td>\n",
       "      <td>True</td>\n",
       "      <td>True</td>\n",
       "      <td>430</td>\n",
       "      <td>353</td>\n",
       "      <td>0.819026</td>\n",
       "      <td>3</td>\n",
       "      <td>False</td>\n",
       "      <td>False</td>\n",
       "      <td>True</td>\n",
       "      <td>False</td>\n",
       "      <td>...</td>\n",
       "      <td>9.237604</td>\n",
       "      <td>85.333333</td>\n",
       "      <td>0.707107</td>\n",
       "      <td>5.472764e+06</td>\n",
       "      <td>6023604.0</td>\n",
       "      <td>4921924.0</td>\n",
       "      <td>7.790054e+05</td>\n",
       "      <td>6.068494e+11</td>\n",
       "      <td>0.000000</td>\n",
       "      <td>True</td>\n",
       "    </tr>\n",
       "    <tr>\n",
       "      <td>2</td>\n",
       "      <td>True</td>\n",
       "      <td>True</td>\n",
       "      <td>418</td>\n",
       "      <td>534</td>\n",
       "      <td>1.274463</td>\n",
       "      <td>139</td>\n",
       "      <td>False</td>\n",
       "      <td>False</td>\n",
       "      <td>False</td>\n",
       "      <td>False</td>\n",
       "      <td>...</td>\n",
       "      <td>7.131620</td>\n",
       "      <td>50.860000</td>\n",
       "      <td>0.321661</td>\n",
       "      <td>3.611337e+06</td>\n",
       "      <td>10774210.0</td>\n",
       "      <td>164203.0</td>\n",
       "      <td>3.163705e+06</td>\n",
       "      <td>1.000903e+13</td>\n",
       "      <td>1.065019</td>\n",
       "      <td>True</td>\n",
       "    </tr>\n",
       "    <tr>\n",
       "      <td>3</td>\n",
       "      <td>True</td>\n",
       "      <td>True</td>\n",
       "      <td>1425</td>\n",
       "      <td>3118</td>\n",
       "      <td>2.186536</td>\n",
       "      <td>206</td>\n",
       "      <td>False</td>\n",
       "      <td>False</td>\n",
       "      <td>True</td>\n",
       "      <td>False</td>\n",
       "      <td>...</td>\n",
       "      <td>11.146449</td>\n",
       "      <td>124.243333</td>\n",
       "      <td>0.682247</td>\n",
       "      <td>1.338888e+06</td>\n",
       "      <td>4057835.0</td>\n",
       "      <td>233556.0</td>\n",
       "      <td>1.025556e+06</td>\n",
       "      <td>1.051766e+12</td>\n",
       "      <td>0.939111</td>\n",
       "      <td>True</td>\n",
       "    </tr>\n",
       "    <tr>\n",
       "      <td>4</td>\n",
       "      <td>True</td>\n",
       "      <td>True</td>\n",
       "      <td>953</td>\n",
       "      <td>288</td>\n",
       "      <td>0.301887</td>\n",
       "      <td>458</td>\n",
       "      <td>True</td>\n",
       "      <td>False</td>\n",
       "      <td>False</td>\n",
       "      <td>False</td>\n",
       "      <td>...</td>\n",
       "      <td>NaN</td>\n",
       "      <td>NaN</td>\n",
       "      <td>NaN</td>\n",
       "      <td>NaN</td>\n",
       "      <td>NaN</td>\n",
       "      <td>NaN</td>\n",
       "      <td>NaN</td>\n",
       "      <td>NaN</td>\n",
       "      <td>NaN</td>\n",
       "      <td>True</td>\n",
       "    </tr>\n",
       "  </tbody>\n",
       "</table>\n",
       "<p>5 rows × 31 columns</p>\n",
       "</div>"
      ],
      "text/plain": [
       "   profile_pic  biography  follows_count  followed_by_count  ff_ratio  \\\n",
       "0         True      False           1128                575  0.509300   \n",
       "1         True       True            430                353  0.819026   \n",
       "2         True       True            418                534  1.274463   \n",
       "3         True       True           1425               3118  2.186536   \n",
       "4         True       True            953                288  0.301887   \n",
       "\n",
       "   media_count  is_private  is_verified  is_business_account  \\\n",
       "0          322       False        False                False   \n",
       "1            3       False        False                 True   \n",
       "2          139       False        False                False   \n",
       "3          206       False        False                 True   \n",
       "4          458        True        False                False   \n",
       "\n",
       "   is_joined_recently  ...  std_comments  var_comments  skw_comments  \\\n",
       "0               False  ...      1.527525      2.333333      1.131088   \n",
       "1               False  ...      9.237604     85.333333      0.707107   \n",
       "2               False  ...      7.131620     50.860000      0.321661   \n",
       "3               False  ...     11.146449    124.243333      0.682247   \n",
       "4               False  ...           NaN           NaN           NaN   \n",
       "\n",
       "   mean_time_between_posts  max_time_between_posts  min_time_between_posts  \\\n",
       "0             1.491866e+06               7517421.0                     5.0   \n",
       "1             5.472764e+06               6023604.0               4921924.0   \n",
       "2             3.611337e+06              10774210.0                164203.0   \n",
       "3             1.338888e+06               4057835.0                233556.0   \n",
       "4                      NaN                     NaN                     NaN   \n",
       "\n",
       "   std_time_between_posts  var_time_between_posts  skw_time_between_posts  \\\n",
       "0            1.832700e+06            3.358789e+12                1.797422   \n",
       "1            7.790054e+05            6.068494e+11                0.000000   \n",
       "2            3.163705e+06            1.000903e+13                1.065019   \n",
       "3            1.025556e+06            1.051766e+12                0.939111   \n",
       "4                     NaN                     NaN                     NaN   \n",
       "\n",
       "   real_account  \n",
       "0          True  \n",
       "1          True  \n",
       "2          True  \n",
       "3          True  \n",
       "4          True  \n",
       "\n",
       "[5 rows x 31 columns]"
      ]
     },
     "execution_count": 12,
     "metadata": {},
     "output_type": "execute_result"
    }
   ],
   "source": [
    "df_real.head()"
   ]
  },
  {
   "cell_type": "code",
   "execution_count": 13,
   "metadata": {},
   "outputs": [
    {
     "data": {
      "text/html": [
       "<div>\n",
       "<style scoped>\n",
       "    .dataframe tbody tr th:only-of-type {\n",
       "        vertical-align: middle;\n",
       "    }\n",
       "\n",
       "    .dataframe tbody tr th {\n",
       "        vertical-align: top;\n",
       "    }\n",
       "\n",
       "    .dataframe thead th {\n",
       "        text-align: right;\n",
       "    }\n",
       "</style>\n",
       "<table border=\"1\" class=\"dataframe\">\n",
       "  <thead>\n",
       "    <tr style=\"text-align: right;\">\n",
       "      <th></th>\n",
       "      <th>profile_pic</th>\n",
       "      <th>biography</th>\n",
       "      <th>follows_count</th>\n",
       "      <th>followed_by_count</th>\n",
       "      <th>ff_ratio</th>\n",
       "      <th>media_count</th>\n",
       "      <th>is_private</th>\n",
       "      <th>is_verified</th>\n",
       "      <th>is_business_account</th>\n",
       "      <th>is_joined_recently</th>\n",
       "      <th>...</th>\n",
       "      <th>std_comments</th>\n",
       "      <th>var_comments</th>\n",
       "      <th>skw_comments</th>\n",
       "      <th>mean_time_between_posts</th>\n",
       "      <th>max_time_between_posts</th>\n",
       "      <th>min_time_between_posts</th>\n",
       "      <th>std_time_between_posts</th>\n",
       "      <th>var_time_between_posts</th>\n",
       "      <th>skw_time_between_posts</th>\n",
       "      <th>real_account</th>\n",
       "    </tr>\n",
       "  </thead>\n",
       "  <tbody>\n",
       "    <tr>\n",
       "      <td>0</td>\n",
       "      <td>True</td>\n",
       "      <td>True</td>\n",
       "      <td>2321</td>\n",
       "      <td>747</td>\n",
       "      <td>0.321705</td>\n",
       "      <td>10</td>\n",
       "      <td>True</td>\n",
       "      <td>False</td>\n",
       "      <td>False</td>\n",
       "      <td>False</td>\n",
       "      <td>...</td>\n",
       "      <td>NaN</td>\n",
       "      <td>NaN</td>\n",
       "      <td>NaN</td>\n",
       "      <td>NaN</td>\n",
       "      <td>NaN</td>\n",
       "      <td>NaN</td>\n",
       "      <td>NaN</td>\n",
       "      <td>NaN</td>\n",
       "      <td>NaN</td>\n",
       "      <td>False</td>\n",
       "    </tr>\n",
       "    <tr>\n",
       "      <td>1</td>\n",
       "      <td>True</td>\n",
       "      <td>True</td>\n",
       "      <td>4247</td>\n",
       "      <td>611</td>\n",
       "      <td>0.143832</td>\n",
       "      <td>99</td>\n",
       "      <td>False</td>\n",
       "      <td>False</td>\n",
       "      <td>True</td>\n",
       "      <td>False</td>\n",
       "      <td>...</td>\n",
       "      <td>NaN</td>\n",
       "      <td>NaN</td>\n",
       "      <td>NaN</td>\n",
       "      <td>NaN</td>\n",
       "      <td>NaN</td>\n",
       "      <td>NaN</td>\n",
       "      <td>NaN</td>\n",
       "      <td>NaN</td>\n",
       "      <td>NaN</td>\n",
       "      <td>False</td>\n",
       "    </tr>\n",
       "    <tr>\n",
       "      <td>2</td>\n",
       "      <td>True</td>\n",
       "      <td>True</td>\n",
       "      <td>781</td>\n",
       "      <td>338</td>\n",
       "      <td>0.432225</td>\n",
       "      <td>128</td>\n",
       "      <td>True</td>\n",
       "      <td>False</td>\n",
       "      <td>False</td>\n",
       "      <td>False</td>\n",
       "      <td>...</td>\n",
       "      <td>NaN</td>\n",
       "      <td>NaN</td>\n",
       "      <td>NaN</td>\n",
       "      <td>NaN</td>\n",
       "      <td>NaN</td>\n",
       "      <td>NaN</td>\n",
       "      <td>NaN</td>\n",
       "      <td>NaN</td>\n",
       "      <td>NaN</td>\n",
       "      <td>False</td>\n",
       "    </tr>\n",
       "    <tr>\n",
       "      <td>3</td>\n",
       "      <td>True</td>\n",
       "      <td>True</td>\n",
       "      <td>1764</td>\n",
       "      <td>1613</td>\n",
       "      <td>0.913881</td>\n",
       "      <td>64</td>\n",
       "      <td>False</td>\n",
       "      <td>False</td>\n",
       "      <td>False</td>\n",
       "      <td>False</td>\n",
       "      <td>...</td>\n",
       "      <td>NaN</td>\n",
       "      <td>NaN</td>\n",
       "      <td>NaN</td>\n",
       "      <td>NaN</td>\n",
       "      <td>NaN</td>\n",
       "      <td>NaN</td>\n",
       "      <td>NaN</td>\n",
       "      <td>NaN</td>\n",
       "      <td>NaN</td>\n",
       "      <td>False</td>\n",
       "    </tr>\n",
       "    <tr>\n",
       "      <td>4</td>\n",
       "      <td>True</td>\n",
       "      <td>False</td>\n",
       "      <td>68</td>\n",
       "      <td>65</td>\n",
       "      <td>0.942029</td>\n",
       "      <td>1</td>\n",
       "      <td>False</td>\n",
       "      <td>False</td>\n",
       "      <td>False</td>\n",
       "      <td>False</td>\n",
       "      <td>...</td>\n",
       "      <td>NaN</td>\n",
       "      <td>NaN</td>\n",
       "      <td>NaN</td>\n",
       "      <td>NaN</td>\n",
       "      <td>NaN</td>\n",
       "      <td>NaN</td>\n",
       "      <td>NaN</td>\n",
       "      <td>NaN</td>\n",
       "      <td>NaN</td>\n",
       "      <td>False</td>\n",
       "    </tr>\n",
       "  </tbody>\n",
       "</table>\n",
       "<p>5 rows × 31 columns</p>\n",
       "</div>"
      ],
      "text/plain": [
       "   profile_pic  biography  follows_count  followed_by_count  ff_ratio  \\\n",
       "0         True       True           2321                747  0.321705   \n",
       "1         True       True           4247                611  0.143832   \n",
       "2         True       True            781                338  0.432225   \n",
       "3         True       True           1764               1613  0.913881   \n",
       "4         True      False             68                 65  0.942029   \n",
       "\n",
       "   media_count  is_private  is_verified  is_business_account  \\\n",
       "0           10        True        False                False   \n",
       "1           99       False        False                 True   \n",
       "2          128        True        False                False   \n",
       "3           64       False        False                False   \n",
       "4            1       False        False                False   \n",
       "\n",
       "   is_joined_recently  ...  std_comments  var_comments  skw_comments  \\\n",
       "0               False  ...           NaN           NaN           NaN   \n",
       "1               False  ...           NaN           NaN           NaN   \n",
       "2               False  ...           NaN           NaN           NaN   \n",
       "3               False  ...           NaN           NaN           NaN   \n",
       "4               False  ...           NaN           NaN           NaN   \n",
       "\n",
       "   mean_time_between_posts  max_time_between_posts  min_time_between_posts  \\\n",
       "0                      NaN                     NaN                     NaN   \n",
       "1                      NaN                     NaN                     NaN   \n",
       "2                      NaN                     NaN                     NaN   \n",
       "3                      NaN                     NaN                     NaN   \n",
       "4                      NaN                     NaN                     NaN   \n",
       "\n",
       "   std_time_between_posts  var_time_between_posts  skw_time_between_posts  \\\n",
       "0                     NaN                     NaN                     NaN   \n",
       "1                     NaN                     NaN                     NaN   \n",
       "2                     NaN                     NaN                     NaN   \n",
       "3                     NaN                     NaN                     NaN   \n",
       "4                     NaN                     NaN                     NaN   \n",
       "\n",
       "   real_account  \n",
       "0         False  \n",
       "1         False  \n",
       "2         False  \n",
       "3         False  \n",
       "4         False  \n",
       "\n",
       "[5 rows x 31 columns]"
      ]
     },
     "execution_count": 13,
     "metadata": {},
     "output_type": "execute_result"
    }
   ],
   "source": [
    "df_fake.head()"
   ]
  },
  {
   "cell_type": "code",
   "execution_count": 14,
   "metadata": {},
   "outputs": [],
   "source": [
    "df=pd.concat([df_real,df_fake],ignore_index=True)"
   ]
  },
  {
   "cell_type": "code",
   "execution_count": 15,
   "metadata": {},
   "outputs": [
    {
     "name": "stdout",
     "output_type": "stream",
     "text": [
      "       profile_pic  biography  follows_count  followed_by_count  ff_ratio  \\\n",
      "0             True      False           1128                575  0.509300   \n",
      "1             True       True            430                353  0.819026   \n",
      "2             True       True            418                534  1.274463   \n",
      "3             True       True           1425               3118  2.186536   \n",
      "4             True       True            953                288  0.301887   \n",
      "...            ...        ...            ...                ...       ...   \n",
      "17482         True       True           2323                 72  0.030981   \n",
      "17483         True       True           2311               2934  1.269031   \n",
      "17484         True       True           7498               2340  0.312042   \n",
      "17485         True      False           6321                327  0.051724   \n",
      "17486         True       True           6531                 61  0.009339   \n",
      "\n",
      "       media_count  is_private  is_verified  is_business_account  \\\n",
      "0              322       False        False                False   \n",
      "1                3       False        False                 True   \n",
      "2              139       False        False                False   \n",
      "3              206       False        False                 True   \n",
      "4              458        True        False                False   \n",
      "...            ...         ...          ...                  ...   \n",
      "17482           20       False        False                False   \n",
      "17483           55       False        False                False   \n",
      "17484           39       False        False                 True   \n",
      "17485           15       False        False                False   \n",
      "17486            7       False        False                False   \n",
      "\n",
      "       is_joined_recently  ...  std_comments  var_comments  skw_comments  \\\n",
      "0                   False  ...      1.527525      2.333333      1.131088   \n",
      "1                   False  ...      9.237604     85.333333      0.707107   \n",
      "2                   False  ...      7.131620     50.860000      0.321661   \n",
      "3                   False  ...     11.146449    124.243333      0.682247   \n",
      "4                   False  ...           NaN           NaN           NaN   \n",
      "...                   ...  ...           ...           ...           ...   \n",
      "17482               False  ...      6.340347     40.200000      1.582760   \n",
      "17483               False  ...      0.472582      0.223333      2.951336   \n",
      "17484               False  ...      3.329164     11.083333      0.677680   \n",
      "17485               False  ...      2.313521      5.352381      2.028695   \n",
      "17486               False  ...      0.000000      0.000000      0.000000   \n",
      "\n",
      "       mean_time_between_posts  max_time_between_posts  \\\n",
      "0                 1.491866e+06               7517421.0   \n",
      "1                 5.472764e+06               6023604.0   \n",
      "2                 3.611337e+06              10774210.0   \n",
      "3                 1.338888e+06               4057835.0   \n",
      "4                          NaN                     NaN   \n",
      "...                        ...                     ...   \n",
      "17482             2.975948e+05               2685349.0   \n",
      "17483             6.898008e+05               6434047.0   \n",
      "17484             9.702668e+05               3269496.0   \n",
      "17485             3.078766e+06              16860832.0   \n",
      "17486             8.326883e+05               1910995.0   \n",
      "\n",
      "       min_time_between_posts  std_time_between_posts  var_time_between_posts  \\\n",
      "0                         5.0            1.832700e+06            3.358789e+12   \n",
      "1                   4921924.0            7.790054e+05            6.068494e+11   \n",
      "2                    164203.0            3.163705e+06            1.000903e+13   \n",
      "3                    233556.0            1.025556e+06            1.051766e+12   \n",
      "4                         NaN                     NaN                     NaN   \n",
      "...                       ...                     ...                     ...   \n",
      "17482                    23.0            7.634178e+05            5.828067e+11   \n",
      "17483                   138.0            1.780056e+06            3.168601e+12   \n",
      "17484                   280.0            7.913546e+05            6.262421e+11   \n",
      "17485                    10.0            5.588747e+06            3.123409e+13   \n",
      "17486                522383.0            5.305299e+05            2.814620e+11   \n",
      "\n",
      "       skw_time_between_posts  real_account  \n",
      "0                    1.797422          True  \n",
      "1                    0.000000          True  \n",
      "2                    1.065019          True  \n",
      "3                    0.939111          True  \n",
      "4                         NaN          True  \n",
      "...                       ...           ...  \n",
      "17482                2.578928         False  \n",
      "17483                2.400901         False  \n",
      "17484                1.132687         False  \n",
      "17485                1.579750         False  \n",
      "17486                1.753490         False  \n",
      "\n",
      "[17487 rows x 31 columns]\n"
     ]
    }
   ],
   "source": [
    "print(df)"
   ]
  },
  {
   "cell_type": "code",
   "execution_count": 17,
   "metadata": {
    "scrolled": true
   },
   "outputs": [
    {
     "name": "stdout",
     "output_type": "stream",
     "text": [
      "['profile_pic', 'biography', 'follows_count', 'followed_by_count', 'ff_ratio', 'media_count', 'is_private', 'is_verified', 'is_business_account', 'is_joined_recently', 'highlight_reel_count', 'connected_fb_page', 'average_likes', 'max_likes', 'min_likes', 'std_likes', 'var_likes', 'skw_likes', 'average_comments', 'max_comments', 'min_comments', 'std_comments', 'var_comments', 'skw_comments', 'mean_time_between_posts', 'max_time_between_posts', 'min_time_between_posts', 'std_time_between_posts', 'var_time_between_posts', 'skw_time_between_posts']\n"
     ]
    }
   ],
   "source": [
    "features_columns=list(df.columns[:30])\n",
    "# targets_column=list(df.columns[30:31])\n",
    "# df.head()\n",
    "print(features_columns)"
   ]
  },
  {
   "cell_type": "code",
   "execution_count": 18,
   "metadata": {},
   "outputs": [
    {
     "data": {
      "text/plain": [
       "(17487, 31)"
      ]
     },
     "execution_count": 18,
     "metadata": {},
     "output_type": "execute_result"
    }
   ],
   "source": [
    "df.shape"
   ]
  },
  {
   "cell_type": "code",
   "execution_count": 20,
   "metadata": {},
   "outputs": [],
   "source": [
    "targets = df['real_account'].values\n",
    "df=df.loc[:,'profile_pic':'highlight_reel_count']"
   ]
  },
  {
   "cell_type": "code",
   "execution_count": 21,
   "metadata": {},
   "outputs": [
    {
     "data": {
      "text/plain": [
       "array([ True,  True,  True, ..., False, False, False])"
      ]
     },
     "execution_count": 21,
     "metadata": {},
     "output_type": "execute_result"
    }
   ],
   "source": [
    "targets"
   ]
  },
  {
   "cell_type": "code",
   "execution_count": 22,
   "metadata": {},
   "outputs": [],
   "source": [
    "# df.drop('real_account', axis=1, inplace=True)"
   ]
  },
  {
   "cell_type": "code",
   "execution_count": 23,
   "metadata": {},
   "outputs": [
    {
     "data": {
      "text/html": [
       "<div>\n",
       "<style scoped>\n",
       "    .dataframe tbody tr th:only-of-type {\n",
       "        vertical-align: middle;\n",
       "    }\n",
       "\n",
       "    .dataframe tbody tr th {\n",
       "        vertical-align: top;\n",
       "    }\n",
       "\n",
       "    .dataframe thead th {\n",
       "        text-align: right;\n",
       "    }\n",
       "</style>\n",
       "<table border=\"1\" class=\"dataframe\">\n",
       "  <thead>\n",
       "    <tr style=\"text-align: right;\">\n",
       "      <th></th>\n",
       "      <th>profile_pic</th>\n",
       "      <th>biography</th>\n",
       "      <th>follows_count</th>\n",
       "      <th>followed_by_count</th>\n",
       "      <th>ff_ratio</th>\n",
       "      <th>media_count</th>\n",
       "      <th>is_private</th>\n",
       "      <th>is_verified</th>\n",
       "      <th>is_business_account</th>\n",
       "      <th>is_joined_recently</th>\n",
       "      <th>highlight_reel_count</th>\n",
       "    </tr>\n",
       "  </thead>\n",
       "  <tbody>\n",
       "    <tr>\n",
       "      <td>0</td>\n",
       "      <td>True</td>\n",
       "      <td>False</td>\n",
       "      <td>1128</td>\n",
       "      <td>575</td>\n",
       "      <td>0.509300</td>\n",
       "      <td>322</td>\n",
       "      <td>False</td>\n",
       "      <td>False</td>\n",
       "      <td>False</td>\n",
       "      <td>False</td>\n",
       "      <td>3</td>\n",
       "    </tr>\n",
       "    <tr>\n",
       "      <td>1</td>\n",
       "      <td>True</td>\n",
       "      <td>True</td>\n",
       "      <td>430</td>\n",
       "      <td>353</td>\n",
       "      <td>0.819026</td>\n",
       "      <td>3</td>\n",
       "      <td>False</td>\n",
       "      <td>False</td>\n",
       "      <td>True</td>\n",
       "      <td>False</td>\n",
       "      <td>3</td>\n",
       "    </tr>\n",
       "    <tr>\n",
       "      <td>2</td>\n",
       "      <td>True</td>\n",
       "      <td>True</td>\n",
       "      <td>418</td>\n",
       "      <td>534</td>\n",
       "      <td>1.274463</td>\n",
       "      <td>139</td>\n",
       "      <td>False</td>\n",
       "      <td>False</td>\n",
       "      <td>False</td>\n",
       "      <td>False</td>\n",
       "      <td>3</td>\n",
       "    </tr>\n",
       "    <tr>\n",
       "      <td>3</td>\n",
       "      <td>True</td>\n",
       "      <td>True</td>\n",
       "      <td>1425</td>\n",
       "      <td>3118</td>\n",
       "      <td>2.186536</td>\n",
       "      <td>206</td>\n",
       "      <td>False</td>\n",
       "      <td>False</td>\n",
       "      <td>True</td>\n",
       "      <td>False</td>\n",
       "      <td>0</td>\n",
       "    </tr>\n",
       "    <tr>\n",
       "      <td>4</td>\n",
       "      <td>True</td>\n",
       "      <td>True</td>\n",
       "      <td>953</td>\n",
       "      <td>288</td>\n",
       "      <td>0.301887</td>\n",
       "      <td>458</td>\n",
       "      <td>True</td>\n",
       "      <td>False</td>\n",
       "      <td>False</td>\n",
       "      <td>False</td>\n",
       "      <td>0</td>\n",
       "    </tr>\n",
       "  </tbody>\n",
       "</table>\n",
       "</div>"
      ],
      "text/plain": [
       "   profile_pic  biography  follows_count  followed_by_count  ff_ratio  \\\n",
       "0         True      False           1128                575  0.509300   \n",
       "1         True       True            430                353  0.819026   \n",
       "2         True       True            418                534  1.274463   \n",
       "3         True       True           1425               3118  2.186536   \n",
       "4         True       True            953                288  0.301887   \n",
       "\n",
       "   media_count  is_private  is_verified  is_business_account  \\\n",
       "0          322       False        False                False   \n",
       "1            3       False        False                 True   \n",
       "2          139       False        False                False   \n",
       "3          206       False        False                 True   \n",
       "4          458        True        False                False   \n",
       "\n",
       "   is_joined_recently  highlight_reel_count  \n",
       "0               False                     3  \n",
       "1               False                     3  \n",
       "2               False                     3  \n",
       "3               False                     0  \n",
       "4               False                     0  "
      ]
     },
     "execution_count": 23,
     "metadata": {},
     "output_type": "execute_result"
    }
   ],
   "source": [
    "df.head()"
   ]
  },
  {
   "cell_type": "code",
   "execution_count": 24,
   "metadata": {},
   "outputs": [],
   "source": [
    "df_sc = StandardScaler().fit_transform(df)"
   ]
  },
  {
   "cell_type": "code",
   "execution_count": 42,
   "metadata": {},
   "outputs": [],
   "source": [
    "x_train, x_test, y_train, y_test = train_test_split(df_sc, targets, test_size = 0.2, random_state = 12345)"
   ]
  },
  {
   "cell_type": "code",
   "execution_count": 43,
   "metadata": {},
   "outputs": [],
   "source": [
    "knn = KNeighborsClassifier()"
   ]
  },
  {
   "cell_type": "code",
   "execution_count": 44,
   "metadata": {},
   "outputs": [
    {
     "data": {
      "text/plain": [
       "KNeighborsClassifier(algorithm='auto', leaf_size=30, metric='minkowski',\n",
       "                     metric_params=None, n_jobs=None, n_neighbors=5, p=2,\n",
       "                     weights='uniform')"
      ]
     },
     "execution_count": 44,
     "metadata": {},
     "output_type": "execute_result"
    }
   ],
   "source": [
    "knn.fit(x_train, y_train)"
   ]
  },
  {
   "cell_type": "code",
   "execution_count": 45,
   "metadata": {},
   "outputs": [],
   "source": [
    "knn_pred = knn.predict(x_test)"
   ]
  },
  {
   "cell_type": "code",
   "execution_count": 46,
   "metadata": {},
   "outputs": [],
   "source": [
    "from sklearn.metrics import confusion_matrix, classification_report"
   ]
  },
  {
   "cell_type": "code",
   "execution_count": 47,
   "metadata": {},
   "outputs": [
    {
     "name": "stdout",
     "output_type": "stream",
     "text": [
      "[[1243  387]\n",
      " [ 290 1578]]\n"
     ]
    }
   ],
   "source": [
    "print(confusion_matrix(y_test, knn_pred))"
   ]
  },
  {
   "cell_type": "code",
   "execution_count": 48,
   "metadata": {},
   "outputs": [
    {
     "name": "stdout",
     "output_type": "stream",
     "text": [
      "              precision    recall  f1-score   support\n",
      "\n",
      "       False       0.81      0.76      0.79      1630\n",
      "        True       0.80      0.84      0.82      1868\n",
      "\n",
      "    accuracy                           0.81      3498\n",
      "   macro avg       0.81      0.80      0.80      3498\n",
      "weighted avg       0.81      0.81      0.81      3498\n",
      "\n"
     ]
    }
   ],
   "source": [
    "print(classification_report(y_test, knn_pred))"
   ]
  },
  {
   "cell_type": "code",
   "execution_count": 59,
   "metadata": {},
   "outputs": [],
   "source": [
    "err = []\n",
    "\n",
    "for i in range(1, 30):\n",
    "    \n",
    "    knn = KNeighborsClassifier(n_neighbors=i)\n",
    "    knn.fit(x_train, y_train)\n",
    "    pred_i = knn.predict(x_test)\n",
    "    err.append(np.mean(pred_i != y_test))"
   ]
  },
  {
   "cell_type": "code",
   "execution_count": 60,
   "metadata": {},
   "outputs": [
    {
     "data": {
      "text/plain": [
       "Text(0, 0.5, 'Tasso di errore')"
      ]
     },
     "execution_count": 60,
     "metadata": {},
     "output_type": "execute_result"
    },
    {
     "data": {
      "image/png": "[encoded data removed]",
      "text/plain": [
       "<Figure size 1008x576 with 1 Axes>"
      ]
     },
     "metadata": {
      "needs_background": "light"
     },
     "output_type": "display_data"
    }
   ],
   "source": [
    "plt.figure(figsize=(14, 8))\n",
    "plt.plot(range(1, 30), err, color='green', linestyle='dotted', marker='o',\n",
    "         markerfacecolor='red', markersize=12)\n",
    "plt.xlabel('Numero di k')\n",
    "plt.ylabel('Tasso di errore')"
   ]
  },
  {
   "cell_type": "code",
   "execution_count": 73,
   "metadata": {},
   "outputs": [
    {
     "name": "stdout",
     "output_type": "stream",
     "text": [
      "[[1264  366]\n",
      " [ 274 1594]]\n",
      "              precision    recall  f1-score   support\n",
      "\n",
      "       False       0.82      0.78      0.80      1630\n",
      "        True       0.81      0.85      0.83      1868\n",
      "\n",
      "    accuracy                           0.82      3498\n",
      "   macro avg       0.82      0.81      0.82      3498\n",
      "weighted avg       0.82      0.82      0.82      3498\n",
      "\n"
     ]
    }
   ],
   "source": [
    "knn = KNeighborsClassifier(n_neighbors=11)\n",
    "knn.fit(x_train, y_train)\n",
    "knn_pred = knn.predict(x_test)\n",
    "print(confusion_matrix(y_test, knn_pred))\n",
    "print(classification_report(y_test, knn_pred))"
   ]
  },
  {
   "cell_type": "code",
   "execution_count": null,
   "metadata": {},
   "outputs": [],
   "source": []
  }
 ],
 "metadata": {
  "kernelspec": {
   "display_name": "Python 3",
   "language": "python",
   "name": "python3"
  },
  "language_info": {
   "codemirror_mode": {
    "name": "ipython",
    "version": 3
   },
   "file_extension": ".py",
   "mimetype": "text/x-python",
   "name": "python",
   "nbconvert_exporter": "python",
   "pygments_lexer": "ipython3",
   "version": "3.7.4"
  }
 },
 "nbformat": 4,
 "nbformat_minor": 2
}
