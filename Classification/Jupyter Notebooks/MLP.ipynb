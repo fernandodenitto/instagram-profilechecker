{
 "cells": [
  {
   "cell_type": "markdown",
   "metadata": {},
   "source": [
    "# MLP"
   ]
  },
  {
   "cell_type": "code",
   "execution_count": 1,
   "metadata": {},
   "outputs": [],
   "source": [
    "# CONTEXT\n",
    "import pandas as pd\n",
    "import numpy as np\n",
    "import matplotlib.pyplot as plt"
   ]
  },
  {
   "cell_type": "code",
   "execution_count": 2,
   "metadata": {},
   "outputs": [],
   "source": [
    "# IMPORTING THE UTILS FOR MANIPULATE THE DATASET\n",
    "import sys\n",
    "sys.path.append('../Classifiers/')\n",
    "from dataset_utils import *"
   ]
  },
  {
   "cell_type": "code",
   "execution_count": 3,
   "metadata": {},
   "outputs": [],
   "source": [
    "from sklearn.model_selection import train_test_split\n",
    "from sklearn.metrics import confusion_matrix, classification_report\n",
    "from sklearn.neural_network import MLPClassifier\n",
    "from sklearn.preprocessing import StandardScaler, MinMaxScaler"
   ]
  },
  {
   "cell_type": "code",
   "execution_count": 4,
   "metadata": {},
   "outputs": [
    {
     "name": "stdout",
     "output_type": "stream",
     "text": [
      "[[9, 9], [9, 10], [9, 11], [9, 12], [9, 13], [9, 14], [9, 15], [10, 9], [10, 10], [10, 11], [10, 12], [10, 13], [10, 14], [10, 15], [11, 9], [11, 10], [11, 11], [11, 12], [11, 13], [11, 14], [11, 15], [12, 9], [12, 10], [12, 11], [12, 12], [12, 13], [12, 14], [12, 15], [13, 9], [13, 10], [13, 11], [13, 12], [13, 13], [13, 14], [13, 15], [14, 9], [14, 10], [14, 11], [14, 12], [14, 13], [14, 14], [14, 15], [15, 9], [15, 10], [15, 11], [15, 12], [15, 13], [15, 14], [15, 15]]\n"
     ]
    }
   ],
   "source": [
    "# For the tuning of Neural Network\n",
    "from itertools import product\n",
    "\n",
    "# Setting the min and max neurons for each level (Warning: higher interval == higher time for getting the stats )\n",
    "min_neurons=9\n",
    "max_neurons=16\n",
    "\n",
    "# Combination of the neurons in the first and second layer (repeat parameter is the number of hidden layers)\n",
    "comb_neurons=list(map(list, product(range(min_neurons, max_neurons), repeat=2)))\n",
    "\n",
    "# Uncomment the following line for better understanding\n",
    "print(comb_neurons)\n",
    "\n",
    "# Convert the list in list of string labels for use them in plotting of the data\n",
    "comb_string=list()\n",
    "\n",
    "for sublist in comb_neurons:\n",
    "    for elem in sublist:\n",
    "        elem=list(map(str,sublist))\n",
    "        str_elem='-'.join(elem)\n",
    "    comb_string.append(str_elem)\n",
    "        "
   ]
  },
  {
   "cell_type": "markdown",
   "metadata": {},
   "source": [
    "Import the dataset and generate the one we'll use for the classification with the fake and the real users"
   ]
  },
  {
   "cell_type": "code",
   "execution_count": 5,
   "metadata": {},
   "outputs": [],
   "source": [
    "# IMPORT THE ORIGINAL DATASET\n",
    "df_real = pd.read_csv('../../data/balanced_real_data.csv')\n",
    "df_fake = pd.read_csv('../../data/balanced_fake_data.csv')\n",
    "dataset=pd.concat([df_real,df_fake],ignore_index=True)\n",
    "dataset=fix_private_entries(dataset)"
   ]
  },
  {
   "cell_type": "code",
   "execution_count": 6,
   "metadata": {},
   "outputs": [
    {
     "data": {
      "text/html": [
       "<div>\n",
       "<style scoped>\n",
       "    .dataframe tbody tr th:only-of-type {\n",
       "        vertical-align: middle;\n",
       "    }\n",
       "\n",
       "    .dataframe tbody tr th {\n",
       "        vertical-align: top;\n",
       "    }\n",
       "\n",
       "    .dataframe thead th {\n",
       "        text-align: right;\n",
       "    }\n",
       "</style>\n",
       "<table border=\"1\" class=\"dataframe\">\n",
       "  <thead>\n",
       "    <tr style=\"text-align: right;\">\n",
       "      <th></th>\n",
       "      <th>profile_pic</th>\n",
       "      <th>biography</th>\n",
       "      <th>follows_count</th>\n",
       "      <th>followed_by_count</th>\n",
       "      <th>ff_ratio</th>\n",
       "      <th>media_count</th>\n",
       "      <th>is_private</th>\n",
       "      <th>is_verified</th>\n",
       "      <th>is_business_account</th>\n",
       "      <th>is_joined_recently</th>\n",
       "      <th>...</th>\n",
       "      <th>std_comments</th>\n",
       "      <th>var_comments</th>\n",
       "      <th>skw_comments</th>\n",
       "      <th>mean_time_between_posts</th>\n",
       "      <th>max_time_between_posts</th>\n",
       "      <th>min_time_between_posts</th>\n",
       "      <th>std_time_between_posts</th>\n",
       "      <th>var_time_between_posts</th>\n",
       "      <th>skw_time_between_posts</th>\n",
       "      <th>real_account</th>\n",
       "    </tr>\n",
       "  </thead>\n",
       "  <tbody>\n",
       "    <tr>\n",
       "      <td>0</td>\n",
       "      <td>True</td>\n",
       "      <td>45</td>\n",
       "      <td>2979</td>\n",
       "      <td>846</td>\n",
       "      <td>0.283988</td>\n",
       "      <td>278</td>\n",
       "      <td>False</td>\n",
       "      <td>False</td>\n",
       "      <td>False</td>\n",
       "      <td>False</td>\n",
       "      <td>...</td>\n",
       "      <td>4.964205</td>\n",
       "      <td>2.464333e+01</td>\n",
       "      <td>1.759163</td>\n",
       "      <td>1.688451e+06</td>\n",
       "      <td>7930005.0</td>\n",
       "      <td>75731.0</td>\n",
       "      <td>1.964306e+06</td>\n",
       "      <td>3.858496e+12</td>\n",
       "      <td>1.947676</td>\n",
       "      <td>True</td>\n",
       "    </tr>\n",
       "    <tr>\n",
       "      <td>1</td>\n",
       "      <td>True</td>\n",
       "      <td>131</td>\n",
       "      <td>966</td>\n",
       "      <td>5172</td>\n",
       "      <td>5.354037</td>\n",
       "      <td>150</td>\n",
       "      <td>False</td>\n",
       "      <td>False</td>\n",
       "      <td>True</td>\n",
       "      <td>False</td>\n",
       "      <td>...</td>\n",
       "      <td>0.472582</td>\n",
       "      <td>2.233333e-01</td>\n",
       "      <td>2.951336</td>\n",
       "      <td>1.978352e+05</td>\n",
       "      <td>851011.0</td>\n",
       "      <td>3855.0</td>\n",
       "      <td>2.222041e+05</td>\n",
       "      <td>4.937467e+10</td>\n",
       "      <td>1.785389</td>\n",
       "      <td>True</td>\n",
       "    </tr>\n",
       "    <tr>\n",
       "      <td>2</td>\n",
       "      <td>True</td>\n",
       "      <td>128</td>\n",
       "      <td>1662</td>\n",
       "      <td>1475</td>\n",
       "      <td>0.887485</td>\n",
       "      <td>403</td>\n",
       "      <td>False</td>\n",
       "      <td>False</td>\n",
       "      <td>True</td>\n",
       "      <td>False</td>\n",
       "      <td>...</td>\n",
       "      <td>5.961543</td>\n",
       "      <td>3.554000e+01</td>\n",
       "      <td>1.546427</td>\n",
       "      <td>2.950338e+05</td>\n",
       "      <td>1128895.0</td>\n",
       "      <td>9212.0</td>\n",
       "      <td>2.417832e+05</td>\n",
       "      <td>5.845911e+10</td>\n",
       "      <td>1.726161</td>\n",
       "      <td>True</td>\n",
       "    </tr>\n",
       "    <tr>\n",
       "      <td>3</td>\n",
       "      <td>True</td>\n",
       "      <td>0</td>\n",
       "      <td>236</td>\n",
       "      <td>111</td>\n",
       "      <td>0.470339</td>\n",
       "      <td>43</td>\n",
       "      <td>True</td>\n",
       "      <td>False</td>\n",
       "      <td>False</td>\n",
       "      <td>False</td>\n",
       "      <td>...</td>\n",
       "      <td>NaN</td>\n",
       "      <td>NaN</td>\n",
       "      <td>NaN</td>\n",
       "      <td>NaN</td>\n",
       "      <td>NaN</td>\n",
       "      <td>NaN</td>\n",
       "      <td>NaN</td>\n",
       "      <td>NaN</td>\n",
       "      <td>NaN</td>\n",
       "      <td>True</td>\n",
       "    </tr>\n",
       "    <tr>\n",
       "      <td>4</td>\n",
       "      <td>True</td>\n",
       "      <td>16</td>\n",
       "      <td>386</td>\n",
       "      <td>967516</td>\n",
       "      <td>2506.518135</td>\n",
       "      <td>34</td>\n",
       "      <td>False</td>\n",
       "      <td>True</td>\n",
       "      <td>True</td>\n",
       "      <td>False</td>\n",
       "      <td>...</td>\n",
       "      <td>1180.090381</td>\n",
       "      <td>1.392613e+06</td>\n",
       "      <td>0.319856</td>\n",
       "      <td>2.418942e+06</td>\n",
       "      <td>12726352.0</td>\n",
       "      <td>36.0</td>\n",
       "      <td>2.814164e+06</td>\n",
       "      <td>7.919517e+12</td>\n",
       "      <td>2.273966</td>\n",
       "      <td>True</td>\n",
       "    </tr>\n",
       "    <tr>\n",
       "      <td>5</td>\n",
       "      <td>True</td>\n",
       "      <td>103</td>\n",
       "      <td>2544</td>\n",
       "      <td>1652183</td>\n",
       "      <td>649.443003</td>\n",
       "      <td>9670</td>\n",
       "      <td>False</td>\n",
       "      <td>True</td>\n",
       "      <td>False</td>\n",
       "      <td>False</td>\n",
       "      <td>...</td>\n",
       "      <td>49.513466</td>\n",
       "      <td>2.451583e+03</td>\n",
       "      <td>1.172048</td>\n",
       "      <td>7.948950e+04</td>\n",
       "      <td>287585.0</td>\n",
       "      <td>5895.0</td>\n",
       "      <td>7.382074e+04</td>\n",
       "      <td>5.449502e+09</td>\n",
       "      <td>1.315021</td>\n",
       "      <td>True</td>\n",
       "    </tr>\n",
       "    <tr>\n",
       "      <td>6</td>\n",
       "      <td>True</td>\n",
       "      <td>150</td>\n",
       "      <td>410</td>\n",
       "      <td>70481</td>\n",
       "      <td>171.904878</td>\n",
       "      <td>2459</td>\n",
       "      <td>False</td>\n",
       "      <td>False</td>\n",
       "      <td>True</td>\n",
       "      <td>False</td>\n",
       "      <td>...</td>\n",
       "      <td>82.691253</td>\n",
       "      <td>6.837843e+03</td>\n",
       "      <td>0.989691</td>\n",
       "      <td>3.742878e+05</td>\n",
       "      <td>827086.0</td>\n",
       "      <td>86472.0</td>\n",
       "      <td>2.019481e+05</td>\n",
       "      <td>4.078303e+10</td>\n",
       "      <td>0.286078</td>\n",
       "      <td>True</td>\n",
       "    </tr>\n",
       "    <tr>\n",
       "      <td>7</td>\n",
       "      <td>True</td>\n",
       "      <td>15</td>\n",
       "      <td>1269</td>\n",
       "      <td>1311</td>\n",
       "      <td>1.033097</td>\n",
       "      <td>24</td>\n",
       "      <td>False</td>\n",
       "      <td>False</td>\n",
       "      <td>True</td>\n",
       "      <td>False</td>\n",
       "      <td>...</td>\n",
       "      <td>1.742479</td>\n",
       "      <td>3.036232e+00</td>\n",
       "      <td>0.746906</td>\n",
       "      <td>4.613034e+06</td>\n",
       "      <td>24784763.0</td>\n",
       "      <td>433680.0</td>\n",
       "      <td>5.338513e+06</td>\n",
       "      <td>2.849972e+13</td>\n",
       "      <td>2.462336</td>\n",
       "      <td>True</td>\n",
       "    </tr>\n",
       "    <tr>\n",
       "      <td>8</td>\n",
       "      <td>True</td>\n",
       "      <td>0</td>\n",
       "      <td>755</td>\n",
       "      <td>2959</td>\n",
       "      <td>3.919205</td>\n",
       "      <td>225</td>\n",
       "      <td>False</td>\n",
       "      <td>False</td>\n",
       "      <td>True</td>\n",
       "      <td>False</td>\n",
       "      <td>...</td>\n",
       "      <td>4.325506</td>\n",
       "      <td>1.871000e+01</td>\n",
       "      <td>1.069453</td>\n",
       "      <td>1.003002e+05</td>\n",
       "      <td>413788.0</td>\n",
       "      <td>16256.0</td>\n",
       "      <td>8.768568e+04</td>\n",
       "      <td>7.688778e+09</td>\n",
       "      <td>2.289149</td>\n",
       "      <td>True</td>\n",
       "    </tr>\n",
       "    <tr>\n",
       "      <td>9</td>\n",
       "      <td>True</td>\n",
       "      <td>116</td>\n",
       "      <td>336</td>\n",
       "      <td>1693459</td>\n",
       "      <td>5040.056548</td>\n",
       "      <td>4214</td>\n",
       "      <td>False</td>\n",
       "      <td>True</td>\n",
       "      <td>True</td>\n",
       "      <td>False</td>\n",
       "      <td>...</td>\n",
       "      <td>153.991472</td>\n",
       "      <td>2.371337e+04</td>\n",
       "      <td>2.851830</td>\n",
       "      <td>5.910004e+04</td>\n",
       "      <td>278030.0</td>\n",
       "      <td>1313.0</td>\n",
       "      <td>7.192136e+04</td>\n",
       "      <td>5.172681e+09</td>\n",
       "      <td>2.133841</td>\n",
       "      <td>True</td>\n",
       "    </tr>\n",
       "  </tbody>\n",
       "</table>\n",
       "<p>10 rows × 30 columns</p>\n",
       "</div>"
      ],
      "text/plain": [
       "   profile_pic  biography  follows_count  followed_by_count     ff_ratio  \\\n",
       "0         True         45           2979                846     0.283988   \n",
       "1         True        131            966               5172     5.354037   \n",
       "2         True        128           1662               1475     0.887485   \n",
       "3         True          0            236                111     0.470339   \n",
       "4         True         16            386             967516  2506.518135   \n",
       "5         True        103           2544            1652183   649.443003   \n",
       "6         True        150            410              70481   171.904878   \n",
       "7         True         15           1269               1311     1.033097   \n",
       "8         True          0            755               2959     3.919205   \n",
       "9         True        116            336            1693459  5040.056548   \n",
       "\n",
       "   media_count  is_private  is_verified  is_business_account  \\\n",
       "0          278       False        False                False   \n",
       "1          150       False        False                 True   \n",
       "2          403       False        False                 True   \n",
       "3           43        True        False                False   \n",
       "4           34       False         True                 True   \n",
       "5         9670       False         True                False   \n",
       "6         2459       False        False                 True   \n",
       "7           24       False        False                 True   \n",
       "8          225       False        False                 True   \n",
       "9         4214       False         True                 True   \n",
       "\n",
       "   is_joined_recently  ...  std_comments  var_comments  skw_comments  \\\n",
       "0               False  ...      4.964205  2.464333e+01      1.759163   \n",
       "1               False  ...      0.472582  2.233333e-01      2.951336   \n",
       "2               False  ...      5.961543  3.554000e+01      1.546427   \n",
       "3               False  ...           NaN           NaN           NaN   \n",
       "4               False  ...   1180.090381  1.392613e+06      0.319856   \n",
       "5               False  ...     49.513466  2.451583e+03      1.172048   \n",
       "6               False  ...     82.691253  6.837843e+03      0.989691   \n",
       "7               False  ...      1.742479  3.036232e+00      0.746906   \n",
       "8               False  ...      4.325506  1.871000e+01      1.069453   \n",
       "9               False  ...    153.991472  2.371337e+04      2.851830   \n",
       "\n",
       "   mean_time_between_posts  max_time_between_posts  min_time_between_posts  \\\n",
       "0             1.688451e+06               7930005.0                 75731.0   \n",
       "1             1.978352e+05                851011.0                  3855.0   \n",
       "2             2.950338e+05               1128895.0                  9212.0   \n",
       "3                      NaN                     NaN                     NaN   \n",
       "4             2.418942e+06              12726352.0                    36.0   \n",
       "5             7.948950e+04                287585.0                  5895.0   \n",
       "6             3.742878e+05                827086.0                 86472.0   \n",
       "7             4.613034e+06              24784763.0                433680.0   \n",
       "8             1.003002e+05                413788.0                 16256.0   \n",
       "9             5.910004e+04                278030.0                  1313.0   \n",
       "\n",
       "   std_time_between_posts  var_time_between_posts  skw_time_between_posts  \\\n",
       "0            1.964306e+06            3.858496e+12                1.947676   \n",
       "1            2.222041e+05            4.937467e+10                1.785389   \n",
       "2            2.417832e+05            5.845911e+10                1.726161   \n",
       "3                     NaN                     NaN                     NaN   \n",
       "4            2.814164e+06            7.919517e+12                2.273966   \n",
       "5            7.382074e+04            5.449502e+09                1.315021   \n",
       "6            2.019481e+05            4.078303e+10                0.286078   \n",
       "7            5.338513e+06            2.849972e+13                2.462336   \n",
       "8            8.768568e+04            7.688778e+09                2.289149   \n",
       "9            7.192136e+04            5.172681e+09                2.133841   \n",
       "\n",
       "   real_account  \n",
       "0          True  \n",
       "1          True  \n",
       "2          True  \n",
       "3          True  \n",
       "4          True  \n",
       "5          True  \n",
       "6          True  \n",
       "7          True  \n",
       "8          True  \n",
       "9          True  \n",
       "\n",
       "[10 rows x 30 columns]"
      ]
     },
     "execution_count": 6,
     "metadata": {},
     "output_type": "execute_result"
    }
   ],
   "source": [
    "dataset.head(10)"
   ]
  },
  {
   "cell_type": "code",
   "execution_count": 7,
   "metadata": {
    "scrolled": true
   },
   "outputs": [],
   "source": [
    "# TAKE THE TRAINSET AND THE TARGET FROM DATASET\n",
    "trainset=get_trainset(dataset)\n",
    "targets=get_target_dataset(dataset)"
   ]
  },
  {
   "cell_type": "markdown",
   "metadata": {},
   "source": [
    "# Classification without the Statistics from the Media of the Users "
   ]
  },
  {
   "cell_type": "code",
   "execution_count": 8,
   "metadata": {},
   "outputs": [],
   "source": [
    "# DELETING THE STATISTICS OF THE USERS CONTENTS\n",
    "trainset_without_stats=drop_stats(trainset)"
   ]
  },
  {
   "cell_type": "code",
   "execution_count": 9,
   "metadata": {},
   "outputs": [],
   "source": [
    "trainset_without_stats=StandardScale_dataset(trainset_without_stats)"
   ]
  },
  {
   "cell_type": "code",
   "execution_count": 10,
   "metadata": {},
   "outputs": [],
   "source": [
    "x_train, x_test, y_train, y_test = train_test_split(trainset_without_stats, targets, test_size = 0.2, random_state = 12345)\n",
    "mlp = MLPClassifier(hidden_layer_sizes=([10,13]),max_iter=500)\n",
    "mlp.fit(x_train, y_train)\n",
    "predictions = mlp.predict(x_test)"
   ]
  },
  {
   "cell_type": "markdown",
   "metadata": {},
   "source": [
    "# Confusion Matrix "
   ]
  },
  {
   "cell_type": "code",
   "execution_count": 11,
   "metadata": {},
   "outputs": [
    {
     "name": "stdout",
     "output_type": "stream",
     "text": [
      "[[1381  180]\n",
      " [ 182 1319]]\n"
     ]
    }
   ],
   "source": [
    "print(confusion_matrix(y_test, predictions))\n"
   ]
  },
  {
   "cell_type": "markdown",
   "metadata": {},
   "source": [
    "# Classification Report"
   ]
  },
  {
   "cell_type": "code",
   "execution_count": 12,
   "metadata": {},
   "outputs": [
    {
     "name": "stdout",
     "output_type": "stream",
     "text": [
      "              precision    recall  f1-score   support\n",
      "\n",
      "       False       0.88      0.88      0.88      1561\n",
      "        True       0.88      0.88      0.88      1501\n",
      "\n",
      "    accuracy                           0.88      3062\n",
      "   macro avg       0.88      0.88      0.88      3062\n",
      "weighted avg       0.88      0.88      0.88      3062\n",
      "\n"
     ]
    }
   ],
   "source": [
    "print(classification_report(y_test, predictions))\n"
   ]
  },
  {
   "cell_type": "markdown",
   "metadata": {},
   "source": [
    "# Tuning the Neural Network"
   ]
  },
  {
   "cell_type": "code",
   "execution_count": 13,
   "metadata": {},
   "outputs": [],
   "source": [
    "err = []\n",
    "\n",
    "for i in comb_neurons:\n",
    "    \n",
    "    mlp = MLPClassifier(hidden_layer_sizes=(i),max_iter=500)\n",
    "    mlp.fit(x_train, y_train)\n",
    "    pred_i  = mlp.predict(x_test)\n",
    "    err.append(np.mean(pred_i != y_test))"
   ]
  },
  {
   "cell_type": "code",
   "execution_count": 14,
   "metadata": {},
   "outputs": [
    {
     "data": {
      "text/plain": [
       "Text(0, 0.5, 'Tasso di errore')"
      ]
     },
     "execution_count": 14,
     "metadata": {},
     "output_type": "execute_result"
    },
    {
     "data": {
      "image/png": "[encoded data removed]",
      "text/plain": [
       "<Figure size 2880x720 with 1 Axes>"
      ]
     },
     "metadata": {
      "needs_background": "light"
     },
     "output_type": "display_data"
    }
   ],
   "source": [
    "plt.figure(figsize=(40, 10))\n",
    "plt.plot(comb_string, err, color='green', linestyle='dotted', marker='o',\n",
    "         markerfacecolor='red', markersize=12)\n",
    "plt.xlabel('Numero di k')\n",
    "plt.ylabel('Tasso di errore')"
   ]
  },
  {
   "cell_type": "markdown",
   "metadata": {},
   "source": [
    "# Classification with only Public Profile (with Media Stats)"
   ]
  },
  {
   "cell_type": "code",
   "execution_count": 15,
   "metadata": {},
   "outputs": [],
   "source": [
    "# CLASSIFICATION OF ONLY PUBLIC PROFILES\n",
    "dataset_publics=drop_NaN_entries(dataset)\n",
    "trainset_publics=get_trainset(dataset_publics)\n",
    "targets_publics=get_target_dataset(dataset_publics)"
   ]
  },
  {
   "cell_type": "code",
   "execution_count": 16,
   "metadata": {},
   "outputs": [],
   "source": [
    "trainset_publics=StandardScale_dataset(trainset_publics)"
   ]
  },
  {
   "cell_type": "code",
   "execution_count": 17,
   "metadata": {},
   "outputs": [],
   "source": [
    "x_train, x_test, y_train, y_test = train_test_split(trainset_publics, targets_publics, test_size = 0.2, random_state = 12345)\n",
    "mlp = MLPClassifier(hidden_layer_sizes=([8,8]),max_iter=500)\n",
    "mlp.fit(x_train, y_train)\n",
    "predictions = mlp.predict(x_test)"
   ]
  },
  {
   "cell_type": "markdown",
   "metadata": {},
   "source": [
    "# Confusion Matrix "
   ]
  },
  {
   "cell_type": "code",
   "execution_count": 18,
   "metadata": {},
   "outputs": [
    {
     "name": "stdout",
     "output_type": "stream",
     "text": [
      "[[1057   96]\n",
      " [ 103 1036]]\n"
     ]
    }
   ],
   "source": [
    "print(confusion_matrix(y_test, predictions))"
   ]
  },
  {
   "cell_type": "markdown",
   "metadata": {},
   "source": [
    "# Classification Report"
   ]
  },
  {
   "cell_type": "code",
   "execution_count": 19,
   "metadata": {},
   "outputs": [
    {
     "name": "stdout",
     "output_type": "stream",
     "text": [
      "              precision    recall  f1-score   support\n",
      "\n",
      "       False       0.91      0.92      0.91      1153\n",
      "        True       0.92      0.91      0.91      1139\n",
      "\n",
      "    accuracy                           0.91      2292\n",
      "   macro avg       0.91      0.91      0.91      2292\n",
      "weighted avg       0.91      0.91      0.91      2292\n",
      "\n"
     ]
    }
   ],
   "source": [
    "print(classification_report(y_test, predictions))"
   ]
  },
  {
   "cell_type": "markdown",
   "metadata": {},
   "source": [
    "# Tuning the Neural Network"
   ]
  },
  {
   "cell_type": "code",
   "execution_count": null,
   "metadata": {},
   "outputs": [],
   "source": [
    "err = []\n",
    "\n",
    "for i in comb_neurons:\n",
    "    \n",
    "    mlp = MLPClassifier(hidden_layer_sizes=(i),max_iter=500)\n",
    "    mlp.fit(x_train, y_train)\n",
    "    pred_i  = mlp.predict(x_test)\n",
    "    err.append(np.mean(pred_i != y_test))"
   ]
  },
  {
   "cell_type": "code",
   "execution_count": null,
   "metadata": {},
   "outputs": [],
   "source": [
    "plt.figure(figsize=(40, 10))\n",
    "plt.plot(comb_string, err, color='green', linestyle='dotted', marker='o',\n",
    "         markerfacecolor='red', markersize=12)\n",
    "plt.xlabel('Numero di k')\n",
    "plt.ylabel('Tasso di errore')"
   ]
  },
  {
   "cell_type": "markdown",
   "metadata": {},
   "source": [
    "# Classification with NaN Values replaced with Median"
   ]
  },
  {
   "cell_type": "code",
   "execution_count": null,
   "metadata": {},
   "outputs": [],
   "source": [
    "# CLASSIFICATION WITH NaN VALUES REPLACED WITH STATISTICS\n",
    "dataset_median=fill_NaN_median(dataset)\n",
    "trainset_median=get_trainset(dataset_median)\n",
    "targets_median=get_target_dataset(dataset_median)\n",
    "print(dataset_median.shape)"
   ]
  },
  {
   "cell_type": "code",
   "execution_count": null,
   "metadata": {},
   "outputs": [],
   "source": [
    "trainset_median=StandardScale_dataset(trainset_median)"
   ]
  },
  {
   "cell_type": "code",
   "execution_count": null,
   "metadata": {},
   "outputs": [],
   "source": [
    "x_train, x_test, y_train, y_test = train_test_split(trainset_median, targets_median, test_size = 0.2, random_state = 12345)\n",
    "mlp = MLPClassifier(hidden_layer_sizes=([8,8]),max_iter=500)\n",
    "mlp.fit(x_train, y_train)\n",
    "predictions = mlp.predict(x_test)"
   ]
  },
  {
   "cell_type": "markdown",
   "metadata": {},
   "source": [
    "# Confusion Matrix "
   ]
  },
  {
   "cell_type": "code",
   "execution_count": null,
   "metadata": {},
   "outputs": [],
   "source": [
    "print(confusion_matrix(y_test, predictions))"
   ]
  },
  {
   "cell_type": "markdown",
   "metadata": {},
   "source": [
    "# Classification Report"
   ]
  },
  {
   "cell_type": "code",
   "execution_count": null,
   "metadata": {},
   "outputs": [],
   "source": [
    "print(classification_report(y_test, predictions))"
   ]
  },
  {
   "cell_type": "markdown",
   "metadata": {},
   "source": [
    "# Tuning the Neural Network"
   ]
  },
  {
   "cell_type": "code",
   "execution_count": null,
   "metadata": {},
   "outputs": [],
   "source": [
    "err = []\n",
    "\n",
    "for i in comb_neurons:\n",
    "    \n",
    "    mlp = MLPClassifier(hidden_layer_sizes=(i),max_iter=500)\n",
    "    mlp.fit(x_train, y_train)\n",
    "    pred_i  = mlp.predict(x_test)\n",
    "    err.append(np.mean(pred_i != y_test))"
   ]
  },
  {
   "cell_type": "code",
   "execution_count": null,
   "metadata": {},
   "outputs": [],
   "source": [
    "plt.figure(figsize=(40, 10))\n",
    "plt.plot(comb_string, err, color='green', linestyle='dotted', marker='o',\n",
    "         markerfacecolor='red', markersize=12)\n",
    "plt.xlabel('Numero di k')\n",
    "plt.ylabel('Tasso di errore')"
   ]
  },
  {
   "cell_type": "code",
   "execution_count": null,
   "metadata": {},
   "outputs": [],
   "source": []
  }
 ],
 "metadata": {
  "kernelspec": {
   "display_name": "Python 3",
   "language": "python",
   "name": "python3"
  },
  "language_info": {
   "codemirror_mode": {
    "name": "ipython",
    "version": 3
   },
   "file_extension": ".py",
   "mimetype": "text/x-python",
   "name": "python",
   "nbconvert_exporter": "python",
   "pygments_lexer": "ipython3",
   "version": "3.7.4"
  }
 },
 "nbformat": 4,
 "nbformat_minor": 2
}
